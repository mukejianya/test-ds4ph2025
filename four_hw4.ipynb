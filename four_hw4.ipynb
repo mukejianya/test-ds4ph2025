{
  "cells": [
    {
      "cell_type": "markdown",
      "metadata": {
        "colab_type": "text",
        "id": "view-in-github"
      },
      "source": [
        "<a href=\"https://colab.research.google.com/github/mukejianya/test-ds4ph2025/blob/main/four_hw4.ipynb\" target=\"_parent\"><img src=\"https://colab.research.google.com/assets/colab-badge.svg\" alt=\"Open In Colab\"/></a>"
      ]
    },
    {
      "cell_type": "code",
      "execution_count": 25,
      "metadata": {
        "id": "ANEJBfISsMQ-"
      },
      "outputs": [],
      "source": [
        "import pandas as pd\n",
        "import sqlite3\n",
        "import matplotlib.pyplot as plt\n",
        "import seaborn as sns"
      ]
    },
    {
      "cell_type": "code",
      "execution_count": 4,
      "metadata": {},
      "outputs": [],
      "source": [
        "population = pd.read_csv('/Users/miaukejianya/county_pop_arcos.csv')\n",
        "annual = pd.read_csv('/Users/miaukejianya/county_annual.csv')\n",
        "land = pd.read_csv('/Users/miaukejianya/land_area.csv') "
      ]
    },
    {
      "cell_type": "code",
      "execution_count": null,
      "metadata": {},
      "outputs": [
        {
          "name": "stdout",
          "output_type": "stream",
          "text": [
            "         name\n",
            "0  population\n",
            "1      annual\n",
            "2        land\n"
          ]
        }
      ],
      "source": [
        "conn = sqlite3.connect('/Users/miaukejianya/opiod.db')\n",
        "\n",
        "tables_query = \"SELECT name FROM sqlite_master WHERE type='table';\"\n",
        "\n",
        "# Execute the query and fetch the results\n",
        "tables = pd.read_sql_query(tables_query, conn)\n",
        "\n",
        "# Display the tables\n",
        "print(tables)\n",
        "\n",
        "conn.close()"
      ]
    },
    {
      "cell_type": "code",
      "execution_count": 11,
      "metadata": {},
      "outputs": [
        {
          "data": {
            "text/html": [
              "<div>\n",
              "<style scoped>\n",
              "    .dataframe tbody tr th:only-of-type {\n",
              "        vertical-align: middle;\n",
              "    }\n",
              "\n",
              "    .dataframe tbody tr th {\n",
              "        vertical-align: top;\n",
              "    }\n",
              "\n",
              "    .dataframe thead th {\n",
              "        text-align: right;\n",
              "    }\n",
              "</style>\n",
              "<table border=\"1\" class=\"dataframe\">\n",
              "  <thead>\n",
              "    <tr style=\"text-align: right;\">\n",
              "      <th></th>\n",
              "      <th>Unnamed: 0</th>\n",
              "      <th>BUYER_COUNTY</th>\n",
              "      <th>BUYER_STATE</th>\n",
              "      <th>countyfips</th>\n",
              "      <th>STATE</th>\n",
              "      <th>COUNTY</th>\n",
              "      <th>county_name</th>\n",
              "      <th>NAME</th>\n",
              "      <th>variable</th>\n",
              "      <th>year</th>\n",
              "      <th>population</th>\n",
              "    </tr>\n",
              "  </thead>\n",
              "  <tbody>\n",
              "    <tr>\n",
              "      <th>0</th>\n",
              "      <td>1</td>\n",
              "      <td>AUTAUGA</td>\n",
              "      <td>AL</td>\n",
              "      <td>1001</td>\n",
              "      <td>1</td>\n",
              "      <td>1</td>\n",
              "      <td>Autauga</td>\n",
              "      <td>Autauga County, Alabama</td>\n",
              "      <td>B01003_001</td>\n",
              "      <td>2006</td>\n",
              "      <td>51328</td>\n",
              "    </tr>\n",
              "    <tr>\n",
              "      <th>1</th>\n",
              "      <td>2</td>\n",
              "      <td>BALDWIN</td>\n",
              "      <td>AL</td>\n",
              "      <td>1003</td>\n",
              "      <td>1</td>\n",
              "      <td>3</td>\n",
              "      <td>Baldwin</td>\n",
              "      <td>Baldwin County, Alabama</td>\n",
              "      <td>B01003_001</td>\n",
              "      <td>2006</td>\n",
              "      <td>168121</td>\n",
              "    </tr>\n",
              "  </tbody>\n",
              "</table>\n",
              "</div>"
            ],
            "text/plain": [
              "   Unnamed: 0 BUYER_COUNTY BUYER_STATE  countyfips  STATE  COUNTY county_name  \\\n",
              "0           1      AUTAUGA          AL        1001      1       1     Autauga   \n",
              "1           2      BALDWIN          AL        1003      1       3     Baldwin   \n",
              "\n",
              "                      NAME    variable  year  population  \n",
              "0  Autauga County, Alabama  B01003_001  2006       51328  \n",
              "1  Baldwin County, Alabama  B01003_001  2006      168121  "
            ]
          },
          "execution_count": 11,
          "metadata": {},
          "output_type": "execute_result"
        }
      ],
      "source": [
        "population.head(2)"
      ]
    },
    {
      "cell_type": "code",
      "execution_count": 12,
      "metadata": {},
      "outputs": [
        {
          "data": {
            "text/html": [
              "<div>\n",
              "<style scoped>\n",
              "    .dataframe tbody tr th:only-of-type {\n",
              "        vertical-align: middle;\n",
              "    }\n",
              "\n",
              "    .dataframe tbody tr th {\n",
              "        vertical-align: top;\n",
              "    }\n",
              "\n",
              "    .dataframe thead th {\n",
              "        text-align: right;\n",
              "    }\n",
              "</style>\n",
              "<table border=\"1\" class=\"dataframe\">\n",
              "  <thead>\n",
              "    <tr style=\"text-align: right;\">\n",
              "      <th></th>\n",
              "      <th>Unnamed: 0</th>\n",
              "      <th>Areaname</th>\n",
              "      <th>STCOU</th>\n",
              "      <th>LND010190F</th>\n",
              "      <th>LND010190D</th>\n",
              "      <th>LND010190N1</th>\n",
              "      <th>LND010190N2</th>\n",
              "      <th>LND010200F</th>\n",
              "      <th>LND010200D</th>\n",
              "      <th>LND010200N1</th>\n",
              "      <th>...</th>\n",
              "      <th>LND110210N1</th>\n",
              "      <th>LND110210N2</th>\n",
              "      <th>LND210190F</th>\n",
              "      <th>LND210190D</th>\n",
              "      <th>LND210190N1</th>\n",
              "      <th>LND210190N2</th>\n",
              "      <th>LND210200F</th>\n",
              "      <th>LND210200D</th>\n",
              "      <th>LND210200N1</th>\n",
              "      <th>LND210200N2</th>\n",
              "    </tr>\n",
              "  </thead>\n",
              "  <tbody>\n",
              "    <tr>\n",
              "      <th>0</th>\n",
              "      <td>1</td>\n",
              "      <td>UNITED STATES</td>\n",
              "      <td>0</td>\n",
              "      <td>0</td>\n",
              "      <td>3787425.08</td>\n",
              "      <td>0</td>\n",
              "      <td>0</td>\n",
              "      <td>0</td>\n",
              "      <td>3794083.06</td>\n",
              "      <td>0</td>\n",
              "      <td>...</td>\n",
              "      <td>0</td>\n",
              "      <td>0</td>\n",
              "      <td>0</td>\n",
              "      <td>251083.35</td>\n",
              "      <td>0</td>\n",
              "      <td>0</td>\n",
              "      <td>0</td>\n",
              "      <td>256644.62</td>\n",
              "      <td>0</td>\n",
              "      <td>0</td>\n",
              "    </tr>\n",
              "    <tr>\n",
              "      <th>1</th>\n",
              "      <td>2</td>\n",
              "      <td>ALABAMA</td>\n",
              "      <td>1000</td>\n",
              "      <td>0</td>\n",
              "      <td>52422.94</td>\n",
              "      <td>0</td>\n",
              "      <td>0</td>\n",
              "      <td>0</td>\n",
              "      <td>52419.02</td>\n",
              "      <td>0</td>\n",
              "      <td>...</td>\n",
              "      <td>0</td>\n",
              "      <td>0</td>\n",
              "      <td>0</td>\n",
              "      <td>1672.71</td>\n",
              "      <td>0</td>\n",
              "      <td>0</td>\n",
              "      <td>0</td>\n",
              "      <td>1675.01</td>\n",
              "      <td>0</td>\n",
              "      <td>0</td>\n",
              "    </tr>\n",
              "  </tbody>\n",
              "</table>\n",
              "<p>2 rows × 35 columns</p>\n",
              "</div>"
            ],
            "text/plain": [
              "   Unnamed: 0       Areaname  STCOU  LND010190F  LND010190D  LND010190N1  \\\n",
              "0           1  UNITED STATES      0           0  3787425.08            0   \n",
              "1           2        ALABAMA   1000           0    52422.94            0   \n",
              "\n",
              "   LND010190N2  LND010200F  LND010200D  LND010200N1  ...  LND110210N1  \\\n",
              "0            0           0  3794083.06            0  ...            0   \n",
              "1            0           0    52419.02            0  ...            0   \n",
              "\n",
              "   LND110210N2  LND210190F  LND210190D  LND210190N1  LND210190N2  LND210200F  \\\n",
              "0            0           0   251083.35            0            0           0   \n",
              "1            0           0     1672.71            0            0           0   \n",
              "\n",
              "   LND210200D  LND210200N1  LND210200N2  \n",
              "0   256644.62            0            0  \n",
              "1     1675.01            0            0  \n",
              "\n",
              "[2 rows x 35 columns]"
            ]
          },
          "execution_count": 12,
          "metadata": {},
          "output_type": "execute_result"
        }
      ],
      "source": [
        "land.head(2)"
      ]
    },
    {
      "cell_type": "code",
      "execution_count": 13,
      "metadata": {},
      "outputs": [
        {
          "data": {
            "text/html": [
              "<div>\n",
              "<style scoped>\n",
              "    .dataframe tbody tr th:only-of-type {\n",
              "        vertical-align: middle;\n",
              "    }\n",
              "\n",
              "    .dataframe tbody tr th {\n",
              "        vertical-align: top;\n",
              "    }\n",
              "\n",
              "    .dataframe thead th {\n",
              "        text-align: right;\n",
              "    }\n",
              "</style>\n",
              "<table border=\"1\" class=\"dataframe\">\n",
              "  <thead>\n",
              "    <tr style=\"text-align: right;\">\n",
              "      <th></th>\n",
              "      <th>Unnamed: 0</th>\n",
              "      <th>BUYER_COUNTY</th>\n",
              "      <th>BUYER_STATE</th>\n",
              "      <th>year</th>\n",
              "      <th>count</th>\n",
              "      <th>DOSAGE_UNIT</th>\n",
              "      <th>countyfips</th>\n",
              "    </tr>\n",
              "  </thead>\n",
              "  <tbody>\n",
              "    <tr>\n",
              "      <th>0</th>\n",
              "      <td>1</td>\n",
              "      <td>ABBEVILLE</td>\n",
              "      <td>SC</td>\n",
              "      <td>2006</td>\n",
              "      <td>877</td>\n",
              "      <td>363620.0</td>\n",
              "      <td>45001.0</td>\n",
              "    </tr>\n",
              "    <tr>\n",
              "      <th>1</th>\n",
              "      <td>2</td>\n",
              "      <td>ABBEVILLE</td>\n",
              "      <td>SC</td>\n",
              "      <td>2007</td>\n",
              "      <td>908</td>\n",
              "      <td>402940.0</td>\n",
              "      <td>45001.0</td>\n",
              "    </tr>\n",
              "  </tbody>\n",
              "</table>\n",
              "</div>"
            ],
            "text/plain": [
              "   Unnamed: 0 BUYER_COUNTY BUYER_STATE  year  count  DOSAGE_UNIT  countyfips\n",
              "0           1    ABBEVILLE          SC  2006    877     363620.0     45001.0\n",
              "1           2    ABBEVILLE          SC  2007    908     402940.0     45001.0"
            ]
          },
          "execution_count": 13,
          "metadata": {},
          "output_type": "execute_result"
        }
      ],
      "source": [
        "annual.head(2)"
      ]
    },
    {
      "cell_type": "code",
      "execution_count": 22,
      "metadata": {},
      "outputs": [
        {
          "name": "stdout",
          "output_type": "stream",
          "text": [
            "   year        count\n",
            "0  2006  6725.041935\n",
            "1  2007  7429.199546\n",
            "2  2008  7946.208902\n",
            "3  2009  8247.823854\n",
            "4  2010  8871.797073\n"
          ]
        }
      ],
      "source": [
        "annual_average_pills = annual.groupby('year')['count'].mean().reset_index()\n",
        "\n",
        "print(annual_average_pills.head())"
      ]
    },
    {
      "cell_type": "code",
      "execution_count": 23,
      "metadata": {},
      "outputs": [
        {
          "data": {
            "image/png": "[encoded data removed]",
            "text/plain": [
              "<Figure size 1000x600 with 1 Axes>"
            ]
          },
          "metadata": {},
          "output_type": "display_data"
        }
      ],
      "source": [
        "# Create a scatterplot\n",
        "plt.figure(figsize=(10, 6))\n",
        "sns.scatterplot(data=annual_average_pills, x='year', y='count', marker='o')\n",
        "\n",
        "# Customize the plot\n",
        "plt.title('Average Number of Opioid Pills by Year')\n",
        "plt.xlabel('Year')\n",
        "plt.ylabel('Average Number of Opioid Pills')\n",
        "plt.grid(True)\n",
        "\n",
        "# Show the plot\n",
        "plt.show()\n"
      ]
    },
    {
      "cell_type": "markdown",
      "metadata": {},
      "source": [
        "## R from Python"
      ]
    },
    {
      "cell_type": "code",
      "execution_count": 37,
      "metadata": {},
      "outputs": [],
      "source": [
        "import rpy2\n",
        "import rpy2.rinterface as ri\n",
        "import rpy2.robjects as ro\n",
        "from rpy2.robjects.packages import importr\n",
        "from rpy2.robjects import pandas2ri"
      ]
    },
    {
      "cell_type": "code",
      "execution_count": 31,
      "metadata": {},
      "outputs": [],
      "source": [
        "r_code = '''\n",
        "library(tidyverse)\n",
        "            \n",
        "#read in the data\n",
        "population <- read_csv(\"https://raw.githubusercontent.com/opencasestudies/ocs-bp-opioid-rural-urban/master/data/simpler_import/county_pop_arcos.csv\")\n",
        "annual <- read_csv(\"https://raw.githubusercontent.com/opencasestudies/ocs-bp-opioid-rural-urban/master/data/simpler_import/county_annual.csv\")\n",
        "land <- read_csv(\"https://raw.githubusercontent.com/opencasestudies/ocs-bp-opioid-rural-urban/master/data/simpler_import/land_area.csv\") \n",
        "\n",
        "names(population)\n",
        "names(annual)\n",
        "names(land)\n",
        "\n",
        "#check and clean the data following steps from the online textbook\n",
        "population %>% \n",
        "    select(countyfips, population, year) %>%\n",
        "    head()\n",
        "\n",
        "annual %>%\n",
        "    filter(is.na(countyfips) | countyfips == \"NA\") %>%\n",
        "    select(BUYER_COUNTY, BUYER_STATE, countyfips) %>%\n",
        "    distinct()\n",
        "\n",
        "annual %>% \n",
        "    filter(BUYER_STATE != \"PR\") %>%\n",
        "    count(BUYER_STATE) %>%\n",
        "    print(n=56)\n",
        "\n",
        "annual <- annual %>%\n",
        "  mutate(countyfips = if_else(\n",
        "    is.na(countyfips) & BUYER_COUNTY == \"MONTGOMERY\" & BUYER_STATE == \"AR\", \n",
        "    \"05097\", \n",
        "    countyfips\n",
        "  ))\n",
        "\n",
        "  annual <- annual %>%\n",
        "  filter(!is.na(countyfips))\n",
        "\n",
        "land_area <- land %>%\n",
        "  select(STCOU, Areaname, LND110210D) %>%\n",
        "  rename(countyfips = STCOU)\n",
        "\n",
        "\n",
        "annual_joined <- annual %>%\n",
        "left_join(population, by = c(\"countyfips\", \"year\")) %>%\n",
        "left_join(land_area, by = \"countyfips\")\n",
        "'''"
      ]
    },
    {
      "cell_type": "code",
      "execution_count": 32,
      "metadata": {},
      "outputs": [
        {
          "name": "stdout",
          "output_type": "stream",
          "text": [
            "New names:\n",
            "• `` -> `...1`\n",
            "Rows: 28265 Columns: 11\n",
            "── Column specification ────────────────────────────────────────────────────────\n",
            "Delimiter: \",\"\n",
            "chr (6): BUYER_COUNTY, BUYER_STATE, countyfips, county_name, NAME, variable\n",
            "dbl (5): ...1, STATE, COUNTY, year, population\n",
            "\n",
            "ℹ Use `spec()` to retrieve the full column specification for this data.\n",
            "ℹ Specify the column types or set `show_col_types = FALSE` to quiet this message.\n",
            "New names:\n",
            "• `` -> `...1`\n",
            "Rows: 27758 Columns: 7\n",
            "── Column specification ────────────────────────────────────────────────────────\n",
            "Delimiter: \",\"\n",
            "chr (3): BUYER_COUNTY, BUYER_STATE, countyfips\n",
            "dbl (4): ...1, year, count, DOSAGE_UNIT\n",
            "\n",
            "ℹ Use `spec()` to retrieve the full column specification for this data.\n",
            "ℹ Specify the column types or set `show_col_types = FALSE` to quiet this message.\n",
            "New names:\n",
            "• `` -> `...1`\n",
            "Rows: 3198 Columns: 35\n",
            "── Column specification ────────────────────────────────────────────────────────\n",
            "Delimiter: \",\"\n",
            "chr (18): Areaname, STCOU, LND010190N1, LND010190N2, LND010200N1, LND010200N...\n",
            "dbl (17): ...1, LND010190F, LND010190D, LND010200F, LND010200D, LND110180F, ...\n",
            "\n",
            "ℹ Use `spec()` to retrieve the full column specification for this data.\n",
            "ℹ Specify the column types or set `show_col_types = FALSE` to quiet this message.\n",
            "# A tibble: 56 × 2\n",
            "   BUYER_STATE     n\n",
            "   <chr>       <int>\n",
            " 1 AE              1\n",
            " 2 AK            161\n",
            " 3 AL            603\n",
            " 4 AR            671\n",
            " 5 AZ            135\n",
            " 6 CA            520\n",
            " 7 CO            526\n",
            " 8 CT             75\n",
            " 9 DC              9\n",
            "10 DE             27\n",
            "11 FL            602\n",
            "12 GA           1367\n",
            "13 GU              9\n",
            "14 HI             36\n",
            "15 IA            892\n",
            "16 ID            364\n",
            "17 IL            912\n",
            "18 IN            820\n",
            "19 KS            903\n",
            "20 KY           1071\n",
            "21 LA            571\n",
            "22 MA            127\n",
            "23 MD            216\n",
            "24 ME            144\n",
            "25 MI            738\n",
            "26 MN            783\n",
            "27 MO           1011\n",
            "28 MP              9\n",
            "29 MS            729\n",
            "30 MT            430\n",
            "31 NC            882\n",
            "32 ND            414\n",
            "33 NE            678\n",
            "34 NH             90\n",
            "35 NJ            189\n",
            "36 NM            266\n",
            "37 NV            127\n",
            "38 NY            558\n",
            "39 OH            793\n",
            "40 OK            693\n",
            "41 OR            312\n",
            "42 PA            603\n",
            "43 PW              5\n",
            "44 RI             45\n",
            "45 SC            414\n",
            "46 SD            452\n",
            "47 TN            851\n",
            "48 TX           2032\n",
            "49 UT            243\n",
            "50 VA           1132\n",
            "51 VI             27\n",
            "52 VT            121\n",
            "53 WA            351\n",
            "54 WI            630\n",
            "55 WV            495\n",
            "56 WY            207\n"
          ]
        }
      ],
      "source": [
        "ro.r(r_code)"
      ]
    },
    {
      "cell_type": "code",
      "execution_count": 38,
      "metadata": {},
      "outputs": [
        {
          "name": "stdout",
          "output_type": "stream",
          "text": [
            "   ...1.x BUYER_COUNTY.x BUYER_STATE.x    year   count  DOSAGE_UNIT  \\\n",
            "1     1.0      ABBEVILLE            SC  2006.0   877.0     363620.0   \n",
            "2     2.0      ABBEVILLE            SC  2007.0   908.0     402940.0   \n",
            "3     3.0      ABBEVILLE            SC  2008.0   871.0     424590.0   \n",
            "4     4.0      ABBEVILLE            SC  2009.0   930.0     467230.0   \n",
            "5     5.0      ABBEVILLE            SC  2010.0  1197.0     539280.0   \n",
            "\n",
            "  countyfips   ...1.y BUYER_COUNTY.y BUYER_STATE.y  STATE  COUNTY county_name  \\\n",
            "1      45001   2313.0      ABBEVILLE            SC   45.0     1.0   Abbeville   \n",
            "2      45001   5455.0      ABBEVILLE            SC   45.0     1.0   Abbeville   \n",
            "3      45001   8597.0      ABBEVILLE            SC   45.0     1.0   Abbeville   \n",
            "4      45001  11737.0      ABBEVILLE            SC   45.0     1.0   Abbeville   \n",
            "5      45001  14877.0      ABBEVILLE            SC   45.0     1.0   Abbeville   \n",
            "\n",
            "                               NAME    variable  population       Areaname  \\\n",
            "1  Abbeville County, South Carolina  B01003_001     25821.0  Abbeville, SC   \n",
            "2  Abbeville County, South Carolina  B01003_001     25745.0  Abbeville, SC   \n",
            "3  Abbeville County, South Carolina  B01003_001     25699.0  Abbeville, SC   \n",
            "4  Abbeville County, South Carolina  B01003_001     25347.0  Abbeville, SC   \n",
            "5  Abbeville County, South Carolina  B01003_001     25643.0  Abbeville, SC   \n",
            "\n",
            "   LND110210D  \n",
            "1      490.48  \n",
            "2      490.48  \n",
            "3      490.48  \n",
            "4      490.48  \n",
            "5      490.48  \n"
          ]
        }
      ],
      "source": [
        "# Access the final R object `annual_joined` from R\n",
        "opioid_df = ro.r['annual_joined']\n",
        "\n",
        "pandas2ri.activate()\n",
        "\n",
        "# Convert to pandas DataFrame\n",
        "opioid_pd = pandas2ri.rpy2py(opioid_df)\n",
        "\n",
        "# Show first few rows\n",
        "print(opioid_pd.head())"
      ]
    }
  ],
  "metadata": {
    "colab": {
      "authorship_tag": "ABX9TyOnEm22joABOUeu2PFkbPBM",
      "include_colab_link": true,
      "provenance": []
    },
    "kernelspec": {
      "display_name": "Python 3",
      "name": "python3"
    },
    "language_info": {
      "codemirror_mode": {
        "name": "ipython",
        "version": 3
      },
      "file_extension": ".py",
      "mimetype": "text/x-python",
      "name": "python",
      "nbconvert_exporter": "python",
      "pygments_lexer": "ipython3",
      "version": "3.10.16"
    }
  },
  "nbformat": 4,
  "nbformat_minor": 0
}
