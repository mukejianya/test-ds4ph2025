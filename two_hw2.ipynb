{
  "nbformat": 4,
  "nbformat_minor": 0,
  "metadata": {
    "colab": {
      "provenance": [],
      "toc_visible": true,
      "authorship_tag": "ABX9TyOzdQccMg8MZodVjK21D60G",
      "include_colab_link": true
    },
    "kernelspec": {
      "name": "python3",
      "display_name": "Python 3"
    },
    "language_info": {
      "name": "python"
    }
  },
  "cells": [
    {
      "cell_type": "markdown",
      "metadata": {
        "id": "view-in-github",
        "colab_type": "text"
      },
      "source": [
        "<a href=\"https://colab.research.google.com/github/mukejianya/test-ds4ph2025/blob/main/two_hw2.ipynb\" target=\"_parent\"><img src=\"https://colab.research.google.com/assets/colab-badge.svg\" alt=\"Open In Colab\"/></a>"
      ]
    },
    {
      "cell_type": "markdown",
      "source": [
        "In a single jupyter notebook file named hw2.ipynb create the following:\n",
        "\n",
        "1. A sorting hat program called sorting_hat that, when run, takes in Y or N answers and returns your Hogwart's house between Gryffindor and Slytherine using if/elif/else statements. The sorting hat program should have at least 2 simple yes/no questions using python's input function. You can use any questions that you'd like and determine the Hogwart's house any way that you'd like. Have the selected house be the return value of the function.\n",
        "\n",
        "2. Write an class mydata that takes in a list of numbers and has the methods: mean and std (for standard deviation) returning the mean and standard deviation respectively. This should calculate the mean and standard deviation using only base python functions. Try it out with x = mydata([1, 2, 7, 5]).\n",
        "\n",
        "3. Create a function called lag as follows. It takes in a numpy vector, say a = numpy.array( [1, 6, 8, 4] ) and an integer > 0. It then returns the list lagged by the integer value. So, lag(a, 1) will return [nan, 1, 6, 8] and lag(a, 2) will return [nan, nan, 1, 6]. That is, it gets rid of n values at the end and appends that many nans at the beginning. Use numpy's nan for the missing values. It should return a numpy array. Do not uses numpy's existing lag, lead, roll etcetera functions. Instead, use numpy indexing.\n",
        "\n",
        "4. Using your code from 3, write a function lagGenerator that returns - a function - that lags by a specific amount. SolagGenerator(2) creates a function that lags a vector by 2. Use the lambda operator in python.\n",
        "Write your code in a single jupyter notebook called hw2.ipynb"
      ],
      "metadata": {
        "id": "CBIuHVwb4qYK"
      }
    },
    {
      "cell_type": "markdown",
      "source": [
        "#Question 1"
      ],
      "metadata": {
        "id": "yUxe-ZcYGsBr"
      }
    },
    {
      "cell_type": "code",
      "execution_count": 5,
      "metadata": {
        "id": "o3GG9LVu4htD"
      },
      "outputs": [],
      "source": [
        "def ask_yes_no(question):\n",
        "    while True:\n",
        "        answer = input(question + \" (yes/no): \").strip().lower()\n",
        "        if answer in ['yes', 'no']:\n",
        "            return answer\n",
        "        else:\n",
        "            print(\"Please enter 'yes' or 'no'.\")"
      ]
    },
    {
      "cell_type": "code",
      "source": [
        "def sorting_hat():\n",
        "  print(\"Welcome to Sorting Hat! Find your Hogwart's house today! \\n\")\n",
        "\n",
        "  q1 = ask_yes_no(\"Do you like the color red?\")\n",
        "  q2 = ask_yes_no(\"Have you watched all the Harry Potter movies?\")\n",
        "  q3 = ask_yes_no(\"Would you describe yourself as curious?\")\n",
        "\n",
        "  if q1 == \"yes\" and q2 == \"yes\" and q3 == \"yes\":\n",
        "    print(\"Your house is Gryffindor! \\nThanks for coming to our sorting house!\")\n",
        "  elif q1 == \"yes\" and q2 == \"yes\" and q3 == \"no\":\n",
        "    print(\"Your house is Hufflepuff! \\nThanks for coming to our sorting house!\")\n",
        "  elif q1 == \"yes\" and q2 == \"no\" and q3 == \"no\":\n",
        "    print(\"Your house is Ravenclaw! \\nThanks for coming to our sorting house!\")\n",
        "  elif q1 == \"no\" and q2 == \"no\" and q3 == \"no\":\n",
        "    print(\"Your house is Slytherin! \\nThanks for coming to our sorting house!\")\n",
        "  else:\n",
        "    print(\"Thanks for coming to our sorting house!\")\n",
        "\n",
        "if __name__ == \"__main__\":\n",
        "  sorting_hat()"
      ],
      "metadata": {
        "colab": {
          "base_uri": "https://localhost:8080/"
        },
        "id": "Nc0CHLmr-et7",
        "outputId": "58ce8afd-8123-44c7-fc58-2b92f3243ea0"
      },
      "execution_count": 11,
      "outputs": [
        {
          "output_type": "stream",
          "name": "stdout",
          "text": [
            "Welcome to Sorting Hat! Find your Hogwart's house today! \n",
            "\n",
            "Do you like the color red? (yes/no): no\n",
            "Have you watched all the Harry Potter movies? (yes/no): no\n",
            "Would you describe yourself as curious? (yes/no): no\n",
            "Your house is Slytherin! \n",
            "Thanks for coming to our sorting house!\n"
          ]
        }
      ]
    },
    {
      "cell_type": "code",
      "source": [
        "sorting_hat()"
      ],
      "metadata": {
        "colab": {
          "base_uri": "https://localhost:8080/"
        },
        "id": "ClbE7Wih7FSM",
        "outputId": "7c3526ad-6a12-4d81-d9a6-1f946cc0b2e5"
      },
      "execution_count": 12,
      "outputs": [
        {
          "output_type": "stream",
          "name": "stdout",
          "text": [
            "Welcome to Sorting Hat! Find your Hogwart's house today! \n",
            "\n",
            "Do you like the color red? (yes/no): yes\n",
            "Have you watched all the Harry Potter movies? (yes/no): yes\n",
            "Would you describe yourself as curious? (yes/no): no\n",
            "Your house is Hufflepuff! \n",
            "Thanks for coming to our sorting house!\n"
          ]
        }
      ]
    },
    {
      "cell_type": "markdown",
      "source": [
        "#Question 2"
      ],
      "metadata": {
        "id": "3q_3hsBJGvud"
      }
    },
    {
      "cell_type": "code",
      "source": [
        "class mydata:\n",
        "  def __init__(self, numbers):\n",
        "\n",
        "    self.data = numbers\n",
        "\n",
        "  def mean(self):\n",
        "    return sum(self.data)/len(self.data)\n",
        "\n",
        "  def std(self):\n",
        "    m = self.mean()\n",
        "    sqaured_diffs = [(x-m) ** 2 for x in self.data]\n",
        "    variance = sum(sqaured_diffs)/len(self.data)\n",
        "    return variance ** 0.5\n"
      ],
      "metadata": {
        "id": "Az4m73pHGxQ2"
      },
      "execution_count": 13,
      "outputs": []
    },
    {
      "cell_type": "code",
      "source": [
        "x = mydata([1, 2, 7, 5])\n",
        "print(\"mean:\", x.mean())\n",
        "print(\"std dev:\", x.std())\n"
      ],
      "metadata": {
        "colab": {
          "base_uri": "https://localhost:8080/"
        },
        "id": "-9SCdO1wMNn4",
        "outputId": "f007561e-47ed-4d7e-ee87-b883db237ad2"
      },
      "execution_count": 15,
      "outputs": [
        {
          "output_type": "stream",
          "name": "stdout",
          "text": [
            "mean: 3.75\n",
            "std dev: 2.384848003542364\n"
          ]
        }
      ]
    },
    {
      "cell_type": "markdown",
      "source": [
        "#Question 3"
      ],
      "metadata": {
        "id": "5qav2wnCNQVt"
      }
    },
    {
      "cell_type": "code",
      "source": [
        "import numpy as np\n",
        "\n",
        "def lag(a, n):\n",
        "    result = np.empty_like(a, dtype='float')   # make sure we can insert np.nan\n",
        "    result[:n] = np.nan                        # first n values = nan\n",
        "    result[n:] = a[:-n]                        # rest = original values, shifted\n",
        "    return result\n"
      ],
      "metadata": {
        "id": "sz3Org5qNRsu"
      },
      "execution_count": 16,
      "outputs": []
    },
    {
      "cell_type": "code",
      "source": [
        "a = np.array([1, 6, 8, 4])\n",
        "b = np.array([23, 43, 67, 31])\n",
        "print(lag(a, 2))\n",
        "print(lag(b, 3))"
      ],
      "metadata": {
        "colab": {
          "base_uri": "https://localhost:8080/"
        },
        "id": "sWht53unNWsG",
        "outputId": "0e0ff60f-b3e5-4fa4-ca0f-2abf9fd8497f"
      },
      "execution_count": 18,
      "outputs": [
        {
          "output_type": "stream",
          "name": "stdout",
          "text": [
            "[nan nan  1.  6.]\n",
            "[nan nan nan 23.]\n"
          ]
        }
      ]
    },
    {
      "cell_type": "markdown",
      "source": [
        "#Question 4"
      ],
      "metadata": {
        "id": "bGQHgR8LN6XS"
      }
    },
    {
      "cell_type": "code",
      "source": [
        "def lagGenerator(n):\n",
        "  return lambda a: lag(a, n)"
      ],
      "metadata": {
        "id": "XH3uQPGpN42j"
      },
      "execution_count": 19,
      "outputs": []
    },
    {
      "cell_type": "code",
      "source": [
        "lag_by_2 = lagGenerator(2)\n",
        "print(lag_by_2(np.array([1, 6, 8, 4])))"
      ],
      "metadata": {
        "colab": {
          "base_uri": "https://localhost:8080/"
        },
        "id": "P9rPb6VyOY8t",
        "outputId": "7b90ad5e-9d5b-41b8-e600-a7704eaa382d"
      },
      "execution_count": 20,
      "outputs": [
        {
          "output_type": "stream",
          "name": "stdout",
          "text": [
            "[nan nan  1.  6.]\n"
          ]
        }
      ]
    }
  ]
}