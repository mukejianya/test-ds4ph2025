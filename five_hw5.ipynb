{
 "cells": [
  {
   "cell_type": "markdown",
   "id": "675ee4bb",
   "metadata": {},
   "source": [
    "1. Create a python file that webscrapes [GDP by\n",
    "   country](https://en.wikipedia.org/wiki/List_of_countries_by_GDP_(nominal))\n",
    "   and plots a stacked interactive bar plot using plotly. Stack\n",
    "   countries within regions using the IMF numbers. Please include this in your ipython notebook\n",
    "   and output your plot to an html file containing the plot.\n",
    "2. Look at the [chapter on interactive\n",
    "   graphics](https://smart-stats.github.io/ds4bio_book/book/_build/html/interactive.html)\n",
    "   and, specifically, the code to display a subject's MRICloud data as\n",
    "   a sunburst plot. Do the following. Display this subject's data as a\n",
    "   [Sankey\n",
    "   diagram](https://plotly.com/python/sankey-diagram/). Display as\n",
    "   many levels as you can (at least 3) for Type = 1, starting from the\n",
    "   intracranial volume.\n",
    "3. Create a simple webpage containing the Sankey graphic and host it on\n",
    "   github pages. **Do not- host this off of your assignment repo from\n",
    "   github classroom, since this is not public**. Instead, you'll have to\n",
    "   create a new public repo from your regular github account and add\n",
    "   this file. Put the link to your live web page in a markdown cell of\n",
    "   your `hw5.ipynb` file as a text block.\n"
   ]
  },
  {
   "cell_type": "code",
   "execution_count": 1,
   "id": "202226a9",
   "metadata": {},
   "outputs": [],
   "source": [
    "import requests as rq\n",
    "import bs4\n",
    "import pandas as pd"
   ]
  },
  {
   "cell_type": "code",
   "execution_count": 2,
   "id": "7c00b58c",
   "metadata": {},
   "outputs": [
    {
     "data": {
      "text/plain": [
       "'<!DOCTYPE html>\\n<html class=\"client-nojs vector-feature-language-in-header-enabled vector-feature-l'"
      ]
     },
     "execution_count": 2,
     "metadata": {},
     "output_type": "execute_result"
    }
   ],
   "source": [
    "url = 'https://en.wikipedia.org/wiki/List_of_countries_by_GDP_(nominal)'\n",
    "page = rq.get(url)\n",
    "page.text[0:99]"
   ]
  },
  {
   "cell_type": "code",
   "execution_count": 3,
   "id": "80897446",
   "metadata": {},
   "outputs": [],
   "source": [
    "#make HTML searchable\n",
    "bs4page = bs4.BeautifulSoup(page.text, 'html.parser')\n",
    "\n",
    "#find table\n",
    "tables = bs4page.find_all('table',{'class':\"wikitable\"})"
   ]
  },
  {
   "cell_type": "code",
   "execution_count": 4,
   "id": "2ffec672",
   "metadata": {},
   "outputs": [],
   "source": [
    "from io import StringIO"
   ]
  },
  {
   "cell_type": "code",
   "execution_count": 5,
   "id": "2e158f97",
   "metadata": {},
   "outputs": [
    {
     "data": {
      "text/html": [
       "<div>\n",
       "<style scoped>\n",
       "    .dataframe tbody tr th:only-of-type {\n",
       "        vertical-align: middle;\n",
       "    }\n",
       "\n",
       "    .dataframe tbody tr th {\n",
       "        vertical-align: top;\n",
       "    }\n",
       "\n",
       "    .dataframe thead tr th {\n",
       "        text-align: left;\n",
       "    }\n",
       "</style>\n",
       "<table border=\"1\" class=\"dataframe\">\n",
       "  <thead>\n",
       "    <tr>\n",
       "      <th></th>\n",
       "      <th>Country/Territory</th>\n",
       "      <th colspan=\"2\" halign=\"left\">IMF[1][12]</th>\n",
       "      <th colspan=\"2\" halign=\"left\">World Bank[13]</th>\n",
       "      <th colspan=\"2\" halign=\"left\">United Nations[14]</th>\n",
       "    </tr>\n",
       "    <tr>\n",
       "      <th></th>\n",
       "      <th>Country/Territory</th>\n",
       "      <th>Forecast</th>\n",
       "      <th>Year</th>\n",
       "      <th>Estimate</th>\n",
       "      <th>Year</th>\n",
       "      <th>Estimate</th>\n",
       "      <th>Year</th>\n",
       "    </tr>\n",
       "  </thead>\n",
       "  <tbody>\n",
       "    <tr>\n",
       "      <th>0</th>\n",
       "      <td>World</td>\n",
       "      <td>115494312</td>\n",
       "      <td>2025</td>\n",
       "      <td>105435540</td>\n",
       "      <td>2023</td>\n",
       "      <td>100834796</td>\n",
       "      <td>2022</td>\n",
       "    </tr>\n",
       "    <tr>\n",
       "      <th>1</th>\n",
       "      <td>United States</td>\n",
       "      <td>30338000</td>\n",
       "      <td>2025</td>\n",
       "      <td>27360935</td>\n",
       "      <td>2023</td>\n",
       "      <td>25744100</td>\n",
       "      <td>2022</td>\n",
       "    </tr>\n",
       "    <tr>\n",
       "      <th>2</th>\n",
       "      <td>China</td>\n",
       "      <td>19535000</td>\n",
       "      <td>[n 1]2025</td>\n",
       "      <td>17794782</td>\n",
       "      <td>[n 3]2023</td>\n",
       "      <td>17963170</td>\n",
       "      <td>[n 1]2022</td>\n",
       "    </tr>\n",
       "    <tr>\n",
       "      <th>3</th>\n",
       "      <td>Germany</td>\n",
       "      <td>4922000</td>\n",
       "      <td>2025</td>\n",
       "      <td>4456081</td>\n",
       "      <td>2023</td>\n",
       "      <td>4076923</td>\n",
       "      <td>2022</td>\n",
       "    </tr>\n",
       "    <tr>\n",
       "      <th>4</th>\n",
       "      <td>Japan</td>\n",
       "      <td>4390000</td>\n",
       "      <td>2025</td>\n",
       "      <td>4212945</td>\n",
       "      <td>2023</td>\n",
       "      <td>4232173</td>\n",
       "      <td>2022</td>\n",
       "    </tr>\n",
       "  </tbody>\n",
       "</table>\n",
       "</div>"
      ],
      "text/plain": [
       "  Country/Territory IMF[1][12]            World Bank[13]             \\\n",
       "  Country/Territory   Forecast       Year       Estimate       Year   \n",
       "0             World  115494312       2025      105435540       2023   \n",
       "1     United States   30338000       2025       27360935       2023   \n",
       "2             China   19535000  [n 1]2025       17794782  [n 3]2023   \n",
       "3           Germany    4922000       2025        4456081       2023   \n",
       "4             Japan    4390000       2025        4212945       2023   \n",
       "\n",
       "  United Nations[14]             \n",
       "            Estimate       Year  \n",
       "0          100834796       2022  \n",
       "1           25744100       2022  \n",
       "2           17963170  [n 1]2022  \n",
       "3            4076923       2022  \n",
       "4            4232173       2022  "
      ]
     },
     "execution_count": 5,
     "metadata": {},
     "output_type": "execute_result"
    }
   ],
   "source": [
    "gdp = pd.read_html(StringIO(str(tables[0])))[0]\n",
    "gdp = gdp.dropna()\n",
    "gdp.head()"
   ]
  },
  {
   "cell_type": "code",
   "execution_count": 6,
   "id": "a4ef8068",
   "metadata": {},
   "outputs": [],
   "source": [
    "import plotly.express as px\n",
    "import numpy as np\n",
    "import pycountry\n",
    "import pycountry_convert as convertcountry"
   ]
  },
  {
   "cell_type": "code",
   "execution_count": 7,
   "id": "1fc43a7c",
   "metadata": {},
   "outputs": [
    {
     "name": "stdout",
     "output_type": "stream",
     "text": [
      "[('Country/Territory', 'Country/Territory'), ('IMF[1][12]', 'Forecast'), ('IMF[1][12]', 'Year'), ('World Bank[13]', 'Estimate'), ('World Bank[13]', 'Year'), ('United Nations[14]', 'Estimate'), ('United Nations[14]', 'Year')]\n"
     ]
    }
   ],
   "source": [
    "print(gdp.columns.tolist())\n"
   ]
  },
  {
   "cell_type": "code",
   "execution_count": 8,
   "id": "7766352e",
   "metadata": {},
   "outputs": [
    {
     "data": {
      "text/html": [
       "<div>\n",
       "<style scoped>\n",
       "    .dataframe tbody tr th:only-of-type {\n",
       "        vertical-align: middle;\n",
       "    }\n",
       "\n",
       "    .dataframe tbody tr th {\n",
       "        vertical-align: top;\n",
       "    }\n",
       "\n",
       "    .dataframe thead th {\n",
       "        text-align: right;\n",
       "    }\n",
       "</style>\n",
       "<table border=\"1\" class=\"dataframe\">\n",
       "  <thead>\n",
       "    <tr style=\"text-align: right;\">\n",
       "      <th></th>\n",
       "      <th>Country</th>\n",
       "      <th>GDP_IMF</th>\n",
       "    </tr>\n",
       "  </thead>\n",
       "  <tbody>\n",
       "    <tr>\n",
       "      <th>1</th>\n",
       "      <td>United States</td>\n",
       "      <td>30338000.0</td>\n",
       "    </tr>\n",
       "    <tr>\n",
       "      <th>2</th>\n",
       "      <td>China</td>\n",
       "      <td>19535000.0</td>\n",
       "    </tr>\n",
       "    <tr>\n",
       "      <th>3</th>\n",
       "      <td>Germany</td>\n",
       "      <td>4922000.0</td>\n",
       "    </tr>\n",
       "    <tr>\n",
       "      <th>4</th>\n",
       "      <td>Japan</td>\n",
       "      <td>4390000.0</td>\n",
       "    </tr>\n",
       "    <tr>\n",
       "      <th>5</th>\n",
       "      <td>India</td>\n",
       "      <td>4270000.0</td>\n",
       "    </tr>\n",
       "  </tbody>\n",
       "</table>\n",
       "</div>"
      ],
      "text/plain": [
       "         Country     GDP_IMF\n",
       "1  United States  30338000.0\n",
       "2          China  19535000.0\n",
       "3        Germany   4922000.0\n",
       "4          Japan   4390000.0\n",
       "5          India   4270000.0"
      ]
     },
     "execution_count": 8,
     "metadata": {},
     "output_type": "execute_result"
    }
   ],
   "source": [
    "#Select only the IMF Forecast column\n",
    "gdp_imf = gdp[[('Country/Territory', 'Country/Territory'), ('IMF[1][12]', 'Forecast')]].copy()\n",
    "\n",
    "#Rename\n",
    "gdp_imf.columns = ['Country', 'GDP_IMF']\n",
    "\n",
    "#Drop 'World' row bc we’re only interested in countries\n",
    "gdp_imf = gdp_imf[gdp_imf['Country'] != 'World']\n",
    "\n",
    "#Clean GDP values (remove notes and commas, convert to numeric)\n",
    "gdp_imf['GDP_IMF'] = gdp_imf['GDP_IMF'].astype(str).str.replace(r'\\[.*?\\]', '', regex=True)\n",
    "gdp_imf['GDP_IMF'] = gdp_imf['GDP_IMF'].str.replace(',', '')\n",
    "gdp_imf['GDP_IMF'] = pd.to_numeric(gdp_imf['GDP_IMF'], errors='coerce')\n",
    "\n",
    "gdp_imf.head()\n"
   ]
  },
  {
   "cell_type": "code",
   "execution_count": 9,
   "id": "537e1eab",
   "metadata": {},
   "outputs": [],
   "source": [
    "# Fix common name mismatches manually by Mapping fixes: Wikipedia names → pycountry-compatible names\n",
    "country_fixes = {\n",
    "    'United States': 'United States of America',\n",
    "    'Russia': 'Russian Federation',\n",
    "    'South Korea': 'Korea, Republic of',\n",
    "    'North Korea': 'Korea, Democratic People\\'s Republic of',\n",
    "    'Czech Republic': 'Czechia',\n",
    "    'Ivory Coast': \"Côte d'Ivoire\",\n",
    "    'DR Congo': 'Congo, The Democratic Republic of the',\n",
    "    'Syria': 'Syrian Arab Republic',\n",
    "    'Iran': 'Iran, Islamic Republic of',\n",
    "    'Venezuela': 'Venezuela, Bolivarian Republic of',\n",
    "    'Vietnam': 'Viet Nam',\n",
    "    'Tanzania': 'Tanzania, United Republic of',\n",
    "    'Bolivia': 'Bolivia, Plurinational State of',\n",
    "    'Brunei': 'Brunei Darussalam',\n",
    "    'Laos': \"Lao People's Democratic Republic\",\n",
    "    'Moldova': 'Moldova, Republic of',\n",
    "    'Palestine': 'Palestine, State of',\n",
    "    'Macau': 'Macao',\n",
    "    'Cape Verde': 'Cabo Verde',\n",
    "    'East Timor': 'Timor-Leste',\n",
    "    'Micronesia': 'Micronesia, Federated States of',\n",
    "    'São Tomé and Príncipe': 'Sao Tome and Principe',\n",
    "    'Swaziland': 'Eswatini',\n",
    "    'Burma': 'Myanmar',\n",
    "    'Kosovo': 'Serbia',  # Not officially recognized by pycountry\n",
    "    'Zanzibar': 'Tanzania, United Republic of',\n",
    "}\n",
    "\n",
    "# Replace with fixed names\n",
    "gdp_imf['Country_fixed'] = gdp_imf['Country'].replace(country_fixes)\n"
   ]
  },
  {
   "cell_type": "code",
   "execution_count": 10,
   "id": "766a1aad",
   "metadata": {},
   "outputs": [
    {
     "name": "stdout",
     "output_type": "stream",
     "text": [
      "{'Aruba': {'alpha_2': 'AW', 'alpha_3': 'ABW', 'numeric': '533'}, 'Afghanistan': {'alpha_2': 'AF', 'alpha_3': 'AFG', 'numeric': '004'}, 'Islamic Republic of Afghanistan': {'alpha_2': 'AF', 'alpha_3': 'AFG', 'numeric': '004'}, 'Angola': {'alpha_2': 'AO', 'alpha_3': 'AGO', 'numeric': '024'}, 'Republic of Angola': {'alpha_2': 'AO', 'alpha_3': 'AGO', 'numeric': '024'}, 'Anguilla': {'alpha_2': 'AI', 'alpha_3': 'AIA', 'numeric': '660'}, 'Åland Islands': {'alpha_2': 'AX', 'alpha_3': 'ALA', 'numeric': '248'}, 'Albania': {'alpha_2': 'AL', 'alpha_3': 'ALB', 'numeric': '008'}, 'Republic of Albania': {'alpha_2': 'AL', 'alpha_3': 'ALB', 'numeric': '008'}, 'Andorra': {'alpha_2': 'AD', 'alpha_3': 'AND', 'numeric': '020'}, 'Principality of Andorra': {'alpha_2': 'AD', 'alpha_3': 'AND', 'numeric': '020'}, 'United Arab Emirates': {'alpha_2': 'AE', 'alpha_3': 'ARE', 'numeric': '784'}, 'Argentina': {'alpha_2': 'AR', 'alpha_3': 'ARG', 'numeric': '032'}, 'Argentine Republic': {'alpha_2': 'AR', 'alpha_3': 'ARG', 'numeric': '032'}, 'Armenia': {'alpha_2': 'AM', 'alpha_3': 'ARM', 'numeric': '051'}, 'Republic of Armenia': {'alpha_2': 'AM', 'alpha_3': 'ARM', 'numeric': '051'}, 'American Samoa': {'alpha_2': 'AS', 'alpha_3': 'ASM', 'numeric': '016'}, 'Antarctica': {'alpha_2': 'AQ', 'alpha_3': 'ATA', 'numeric': '010'}, 'French Southern Territories': {'alpha_2': 'TF', 'alpha_3': 'ATF', 'numeric': '260'}, 'Antigua and Barbuda': {'alpha_2': 'AG', 'alpha_3': 'ATG', 'numeric': '028'}, 'Australia': {'alpha_2': 'AU', 'alpha_3': 'AUS', 'numeric': '036'}, 'Austria': {'alpha_2': 'AT', 'alpha_3': 'AUT', 'numeric': '040'}, 'Republic of Austria': {'alpha_2': 'AT', 'alpha_3': 'AUT', 'numeric': '040'}, 'Azerbaijan': {'alpha_2': 'AZ', 'alpha_3': 'AZE', 'numeric': '031'}, 'Republic of Azerbaijan': {'alpha_2': 'AZ', 'alpha_3': 'AZE', 'numeric': '031'}, 'Burundi': {'alpha_2': 'BI', 'alpha_3': 'BDI', 'numeric': '108'}, 'Republic of Burundi': {'alpha_2': 'BI', 'alpha_3': 'BDI', 'numeric': '108'}, 'Belgium': {'alpha_2': 'BE', 'alpha_3': 'BEL', 'numeric': '056'}, 'Kingdom of Belgium': {'alpha_2': 'BE', 'alpha_3': 'BEL', 'numeric': '056'}, 'Benin': {'alpha_2': 'BJ', 'alpha_3': 'BEN', 'numeric': '204'}, 'Republic of Benin': {'alpha_2': 'BJ', 'alpha_3': 'BEN', 'numeric': '204'}, 'Bonaire, Sint Eustatius and Saba': {'alpha_2': 'BQ', 'alpha_3': 'BES', 'numeric': '535'}, 'Burkina Faso': {'alpha_2': 'BF', 'alpha_3': 'BFA', 'numeric': '854'}, 'Bangladesh': {'alpha_2': 'BD', 'alpha_3': 'BGD', 'numeric': '050'}, \"People's Republic of Bangladesh\": {'alpha_2': 'BD', 'alpha_3': 'BGD', 'numeric': '050'}, 'Bulgaria': {'alpha_2': 'BG', 'alpha_3': 'BGR', 'numeric': '100'}, 'Republic of Bulgaria': {'alpha_2': 'BG', 'alpha_3': 'BGR', 'numeric': '100'}, 'Bahrain': {'alpha_2': 'BH', 'alpha_3': 'BHR', 'numeric': '048'}, 'Kingdom of Bahrain': {'alpha_2': 'BH', 'alpha_3': 'BHR', 'numeric': '048'}, 'Bahamas': {'alpha_2': 'BS', 'alpha_3': 'BHS', 'numeric': '044'}, 'Commonwealth of the Bahamas': {'alpha_2': 'BS', 'alpha_3': 'BHS', 'numeric': '044'}, 'Bosnia and Herzegovina': {'alpha_2': 'BA', 'alpha_3': 'BIH', 'numeric': '070'}, 'Republic of Bosnia and Herzegovina': {'alpha_2': 'BA', 'alpha_3': 'BIH', 'numeric': '070'}, 'Saint Barthélemy': {'alpha_2': 'BL', 'alpha_3': 'BLM', 'numeric': '652'}, 'Belarus': {'alpha_2': 'BY', 'alpha_3': 'BLR', 'numeric': '112'}, 'Republic of Belarus': {'alpha_2': 'BY', 'alpha_3': 'BLR', 'numeric': '112'}, 'Belize': {'alpha_2': 'BZ', 'alpha_3': 'BLZ', 'numeric': '084'}, 'Bermuda': {'alpha_2': 'BM', 'alpha_3': 'BMU', 'numeric': '060'}, 'Bolivia, Plurinational State of': {'alpha_2': 'BO', 'alpha_3': 'BOL', 'numeric': '068'}, 'Plurinational State of Bolivia': {'alpha_2': 'BO', 'alpha_3': 'BOL', 'numeric': '068'}, 'Bolivia': {'alpha_2': 'BO', 'alpha_3': 'BOL', 'numeric': '068'}, 'Brazil': {'alpha_2': 'BR', 'alpha_3': 'BRA', 'numeric': '076'}, 'Federative Republic of Brazil': {'alpha_2': 'BR', 'alpha_3': 'BRA', 'numeric': '076'}, 'Barbados': {'alpha_2': 'BB', 'alpha_3': 'BRB', 'numeric': '052'}, 'Brunei Darussalam': {'alpha_2': 'BN', 'alpha_3': 'BRN', 'numeric': '096'}, 'Bhutan': {'alpha_2': 'BT', 'alpha_3': 'BTN', 'numeric': '064'}, 'Kingdom of Bhutan': {'alpha_2': 'BT', 'alpha_3': 'BTN', 'numeric': '064'}, 'Bouvet Island': {'alpha_2': 'BV', 'alpha_3': 'BVT', 'numeric': '074'}, 'Botswana': {'alpha_2': 'BW', 'alpha_3': 'BWA', 'numeric': '072'}, 'Republic of Botswana': {'alpha_2': 'BW', 'alpha_3': 'BWA', 'numeric': '072'}, 'Central African Republic': {'alpha_2': 'CF', 'alpha_3': 'CAF', 'numeric': '140'}, 'Canada': {'alpha_2': 'CA', 'alpha_3': 'CAN', 'numeric': '124'}, 'Cocos (Keeling) Islands': {'alpha_2': 'CC', 'alpha_3': 'CCK', 'numeric': '166'}, 'Switzerland': {'alpha_2': 'CH', 'alpha_3': 'CHE', 'numeric': '756'}, 'Swiss Confederation': {'alpha_2': 'CH', 'alpha_3': 'CHE', 'numeric': '756'}, 'Chile': {'alpha_2': 'CL', 'alpha_3': 'CHL', 'numeric': '152'}, 'Republic of Chile': {'alpha_2': 'CL', 'alpha_3': 'CHL', 'numeric': '152'}, 'China': {'alpha_2': 'CN', 'alpha_3': 'CHN', 'numeric': '156'}, \"People's Republic of China\": {'alpha_2': 'CN', 'alpha_3': 'CHN', 'numeric': '156'}, \"Côte d'Ivoire\": {'alpha_2': 'CI', 'alpha_3': 'CIV', 'numeric': '384'}, \"Republic of Côte d'Ivoire\": {'alpha_2': 'CI', 'alpha_3': 'CIV', 'numeric': '384'}, 'Cameroon': {'alpha_2': 'CM', 'alpha_3': 'CMR', 'numeric': '120'}, 'Republic of Cameroon': {'alpha_2': 'CM', 'alpha_3': 'CMR', 'numeric': '120'}, 'Congo, The Democratic Republic of the': {'alpha_2': 'CD', 'alpha_3': 'COD', 'numeric': '180'}, 'Congo': {'alpha_2': 'CG', 'alpha_3': 'COG', 'numeric': '178'}, 'Republic of the Congo': {'alpha_2': 'CG', 'alpha_3': 'COG', 'numeric': '178'}, 'Cook Islands': {'alpha_2': 'CK', 'alpha_3': 'COK', 'numeric': '184'}, 'Colombia': {'alpha_2': 'CO', 'alpha_3': 'COL', 'numeric': '170'}, 'Republic of Colombia': {'alpha_2': 'CO', 'alpha_3': 'COL', 'numeric': '170'}, 'Comoros': {'alpha_2': 'KM', 'alpha_3': 'COM', 'numeric': '174'}, 'Union of the Comoros': {'alpha_2': 'KM', 'alpha_3': 'COM', 'numeric': '174'}, 'Cabo Verde': {'alpha_2': 'CV', 'alpha_3': 'CPV', 'numeric': '132'}, 'Republic of Cabo Verde': {'alpha_2': 'CV', 'alpha_3': 'CPV', 'numeric': '132'}, 'Costa Rica': {'alpha_2': 'CR', 'alpha_3': 'CRI', 'numeric': '188'}, 'Republic of Costa Rica': {'alpha_2': 'CR', 'alpha_3': 'CRI', 'numeric': '188'}, 'Cuba': {'alpha_2': 'CU', 'alpha_3': 'CUB', 'numeric': '192'}, 'Republic of Cuba': {'alpha_2': 'CU', 'alpha_3': 'CUB', 'numeric': '192'}, 'Curaçao': {'alpha_2': 'CW', 'alpha_3': 'CUW', 'numeric': '531'}, 'Christmas Island': {'alpha_2': 'CX', 'alpha_3': 'CXR', 'numeric': '162'}, 'Cayman Islands': {'alpha_2': 'KY', 'alpha_3': 'CYM', 'numeric': '136'}, 'Cyprus': {'alpha_2': 'CY', 'alpha_3': 'CYP', 'numeric': '196'}, 'Republic of Cyprus': {'alpha_2': 'CY', 'alpha_3': 'CYP', 'numeric': '196'}, 'Czechia': {'alpha_2': 'CZ', 'alpha_3': 'CZE', 'numeric': '203'}, 'Czech Republic': {'alpha_2': 'CZ', 'alpha_3': 'CZE', 'numeric': '203'}, 'Germany': {'alpha_2': 'DE', 'alpha_3': 'DEU', 'numeric': '276'}, 'Federal Republic of Germany': {'alpha_2': 'DE', 'alpha_3': 'DEU', 'numeric': '276'}, 'Djibouti': {'alpha_2': 'DJ', 'alpha_3': 'DJI', 'numeric': '262'}, 'Republic of Djibouti': {'alpha_2': 'DJ', 'alpha_3': 'DJI', 'numeric': '262'}, 'Dominica': {'alpha_2': 'DM', 'alpha_3': 'DMA', 'numeric': '212'}, 'Commonwealth of Dominica': {'alpha_2': 'DM', 'alpha_3': 'DMA', 'numeric': '212'}, 'Denmark': {'alpha_2': 'DK', 'alpha_3': 'DNK', 'numeric': '208'}, 'Kingdom of Denmark': {'alpha_2': 'DK', 'alpha_3': 'DNK', 'numeric': '208'}, 'Dominican Republic': {'alpha_2': 'DO', 'alpha_3': 'DOM', 'numeric': '214'}, 'Algeria': {'alpha_2': 'DZ', 'alpha_3': 'DZA', 'numeric': '012'}, \"People's Democratic Republic of Algeria\": {'alpha_2': 'DZ', 'alpha_3': 'DZA', 'numeric': '012'}, 'Ecuador': {'alpha_2': 'EC', 'alpha_3': 'ECU', 'numeric': '218'}, 'Republic of Ecuador': {'alpha_2': 'EC', 'alpha_3': 'ECU', 'numeric': '218'}, 'Egypt': {'alpha_2': 'EG', 'alpha_3': 'EGY', 'numeric': '818'}, 'Arab Republic of Egypt': {'alpha_2': 'EG', 'alpha_3': 'EGY', 'numeric': '818'}, 'Eritrea': {'alpha_2': 'ER', 'alpha_3': 'ERI', 'numeric': '232'}, 'the State of Eritrea': {'alpha_2': 'ER', 'alpha_3': 'ERI', 'numeric': '232'}, 'Western Sahara': {'alpha_2': 'EH', 'alpha_3': 'ESH', 'numeric': '732'}, 'Spain': {'alpha_2': 'ES', 'alpha_3': 'ESP', 'numeric': '724'}, 'Kingdom of Spain': {'alpha_2': 'ES', 'alpha_3': 'ESP', 'numeric': '724'}, 'Estonia': {'alpha_2': 'EE', 'alpha_3': 'EST', 'numeric': '233'}, 'Republic of Estonia': {'alpha_2': 'EE', 'alpha_3': 'EST', 'numeric': '233'}, 'Ethiopia': {'alpha_2': 'ET', 'alpha_3': 'ETH', 'numeric': '231'}, 'Federal Democratic Republic of Ethiopia': {'alpha_2': 'ET', 'alpha_3': 'ETH', 'numeric': '231'}, 'Finland': {'alpha_2': 'FI', 'alpha_3': 'FIN', 'numeric': '246'}, 'Republic of Finland': {'alpha_2': 'FI', 'alpha_3': 'FIN', 'numeric': '246'}, 'Fiji': {'alpha_2': 'FJ', 'alpha_3': 'FJI', 'numeric': '242'}, 'Republic of Fiji': {'alpha_2': 'FJ', 'alpha_3': 'FJI', 'numeric': '242'}, 'Falkland Islands (Malvinas)': {'alpha_2': 'FK', 'alpha_3': 'FLK', 'numeric': '238'}, 'France': {'alpha_2': 'FR', 'alpha_3': 'FRA', 'numeric': '250'}, 'French Republic': {'alpha_2': 'FR', 'alpha_3': 'FRA', 'numeric': '250'}, 'Faroe Islands': {'alpha_2': 'FO', 'alpha_3': 'FRO', 'numeric': '234'}, 'Micronesia, Federated States of': {'alpha_2': 'FM', 'alpha_3': 'FSM', 'numeric': '583'}, 'Federated States of Micronesia': {'alpha_2': 'FM', 'alpha_3': 'FSM', 'numeric': '583'}, 'Gabon': {'alpha_2': 'GA', 'alpha_3': 'GAB', 'numeric': '266'}, 'Gabonese Republic': {'alpha_2': 'GA', 'alpha_3': 'GAB', 'numeric': '266'}, 'United Kingdom': {'alpha_2': 'GB', 'alpha_3': 'GBR', 'numeric': '826'}, 'United Kingdom of Great Britain and Northern Ireland': {'alpha_2': 'GB', 'alpha_3': 'GBR', 'numeric': '826'}, 'Georgia': {'alpha_2': 'GE', 'alpha_3': 'GEO', 'numeric': '268'}, 'Guernsey': {'alpha_2': 'GG', 'alpha_3': 'GGY', 'numeric': '831'}, 'Ghana': {'alpha_2': 'GH', 'alpha_3': 'GHA', 'numeric': '288'}, 'Republic of Ghana': {'alpha_2': 'GH', 'alpha_3': 'GHA', 'numeric': '288'}, 'Gibraltar': {'alpha_2': 'GI', 'alpha_3': 'GIB', 'numeric': '292'}, 'Guinea': {'alpha_2': 'GN', 'alpha_3': 'GIN', 'numeric': '324'}, 'Republic of Guinea': {'alpha_2': 'GN', 'alpha_3': 'GIN', 'numeric': '324'}, 'Guadeloupe': {'alpha_2': 'GP', 'alpha_3': 'GLP', 'numeric': '312'}, 'Gambia': {'alpha_2': 'GM', 'alpha_3': 'GMB', 'numeric': '270'}, 'Republic of the Gambia': {'alpha_2': 'GM', 'alpha_3': 'GMB', 'numeric': '270'}, 'Guinea-Bissau': {'alpha_2': 'GW', 'alpha_3': 'GNB', 'numeric': '624'}, 'Republic of Guinea-Bissau': {'alpha_2': 'GW', 'alpha_3': 'GNB', 'numeric': '624'}, 'Equatorial Guinea': {'alpha_2': 'GQ', 'alpha_3': 'GNQ', 'numeric': '226'}, 'Republic of Equatorial Guinea': {'alpha_2': 'GQ', 'alpha_3': 'GNQ', 'numeric': '226'}, 'Greece': {'alpha_2': 'GR', 'alpha_3': 'GRC', 'numeric': '300'}, 'Hellenic Republic': {'alpha_2': 'GR', 'alpha_3': 'GRC', 'numeric': '300'}, 'Grenada': {'alpha_2': 'GD', 'alpha_3': 'GRD', 'numeric': '308'}, 'Greenland': {'alpha_2': 'GL', 'alpha_3': 'GRL', 'numeric': '304'}, 'Guatemala': {'alpha_2': 'GT', 'alpha_3': 'GTM', 'numeric': '320'}, 'Republic of Guatemala': {'alpha_2': 'GT', 'alpha_3': 'GTM', 'numeric': '320'}, 'French Guiana': {'alpha_2': 'GF', 'alpha_3': 'GUF', 'numeric': '254'}, 'Guam': {'alpha_2': 'GU', 'alpha_3': 'GUM', 'numeric': '316'}, 'Guyana': {'alpha_2': 'GY', 'alpha_3': 'GUY', 'numeric': '328'}, 'Republic of Guyana': {'alpha_2': 'GY', 'alpha_3': 'GUY', 'numeric': '328'}, 'Hong Kong': {'alpha_2': 'HK', 'alpha_3': 'HKG', 'numeric': '344'}, 'Hong Kong Special Administrative Region of China': {'alpha_2': 'HK', 'alpha_3': 'HKG', 'numeric': '344'}, 'Heard Island and McDonald Islands': {'alpha_2': 'HM', 'alpha_3': 'HMD', 'numeric': '334'}, 'Honduras': {'alpha_2': 'HN', 'alpha_3': 'HND', 'numeric': '340'}, 'Republic of Honduras': {'alpha_2': 'HN', 'alpha_3': 'HND', 'numeric': '340'}, 'Croatia': {'alpha_2': 'HR', 'alpha_3': 'HRV', 'numeric': '191'}, 'Republic of Croatia': {'alpha_2': 'HR', 'alpha_3': 'HRV', 'numeric': '191'}, 'Haiti': {'alpha_2': 'HT', 'alpha_3': 'HTI', 'numeric': '332'}, 'Republic of Haiti': {'alpha_2': 'HT', 'alpha_3': 'HTI', 'numeric': '332'}, 'Hungary': {'alpha_2': 'HU', 'alpha_3': 'HUN', 'numeric': '348'}, 'Indonesia': {'alpha_2': 'ID', 'alpha_3': 'IDN', 'numeric': '360'}, 'Republic of Indonesia': {'alpha_2': 'ID', 'alpha_3': 'IDN', 'numeric': '360'}, 'Isle of Man': {'alpha_2': 'IM', 'alpha_3': 'IMN', 'numeric': '833'}, 'India': {'alpha_2': 'IN', 'alpha_3': 'IND', 'numeric': '356'}, 'Republic of India': {'alpha_2': 'IN', 'alpha_3': 'IND', 'numeric': '356'}, 'British Indian Ocean Territory': {'alpha_2': 'IO', 'alpha_3': 'IOT', 'numeric': '086'}, 'Ireland': {'alpha_2': 'IE', 'alpha_3': 'IRL', 'numeric': '372'}, 'Iran, Islamic Republic of': {'alpha_2': 'IR', 'alpha_3': 'IRN', 'numeric': '364'}, 'Islamic Republic of Iran': {'alpha_2': 'IR', 'alpha_3': 'IRN', 'numeric': '364'}, 'Iran': {'alpha_2': 'IR', 'alpha_3': 'IRN', 'numeric': '364'}, 'Iraq': {'alpha_2': 'IQ', 'alpha_3': 'IRQ', 'numeric': '368'}, 'Republic of Iraq': {'alpha_2': 'IQ', 'alpha_3': 'IRQ', 'numeric': '368'}, 'Iceland': {'alpha_2': 'IS', 'alpha_3': 'ISL', 'numeric': '352'}, 'Republic of Iceland': {'alpha_2': 'IS', 'alpha_3': 'ISL', 'numeric': '352'}, 'Israel': {'alpha_2': 'IL', 'alpha_3': 'ISR', 'numeric': '376'}, 'State of Israel': {'alpha_2': 'IL', 'alpha_3': 'ISR', 'numeric': '376'}, 'Italy': {'alpha_2': 'IT', 'alpha_3': 'ITA', 'numeric': '380'}, 'Italian Republic': {'alpha_2': 'IT', 'alpha_3': 'ITA', 'numeric': '380'}, 'Jamaica': {'alpha_2': 'JM', 'alpha_3': 'JAM', 'numeric': '388'}, 'Jersey': {'alpha_2': 'JE', 'alpha_3': 'JEY', 'numeric': '832'}, 'Jordan': {'alpha_2': 'JO', 'alpha_3': 'JOR', 'numeric': '400'}, 'Hashemite Kingdom of Jordan': {'alpha_2': 'JO', 'alpha_3': 'JOR', 'numeric': '400'}, 'Japan': {'alpha_2': 'JP', 'alpha_3': 'JPN', 'numeric': '392'}, 'Kazakhstan': {'alpha_2': 'KZ', 'alpha_3': 'KAZ', 'numeric': '398'}, 'Republic of Kazakhstan': {'alpha_2': 'KZ', 'alpha_3': 'KAZ', 'numeric': '398'}, 'Kenya': {'alpha_2': 'KE', 'alpha_3': 'KEN', 'numeric': '404'}, 'Republic of Kenya': {'alpha_2': 'KE', 'alpha_3': 'KEN', 'numeric': '404'}, 'Kyrgyzstan': {'alpha_2': 'KG', 'alpha_3': 'KGZ', 'numeric': '417'}, 'Kyrgyz Republic': {'alpha_2': 'KG', 'alpha_3': 'KGZ', 'numeric': '417'}, 'Cambodia': {'alpha_2': 'KH', 'alpha_3': 'KHM', 'numeric': '116'}, 'Kingdom of Cambodia': {'alpha_2': 'KH', 'alpha_3': 'KHM', 'numeric': '116'}, 'Kiribati': {'alpha_2': 'KI', 'alpha_3': 'KIR', 'numeric': '296'}, 'Republic of Kiribati': {'alpha_2': 'KI', 'alpha_3': 'KIR', 'numeric': '296'}, 'Saint Kitts and Nevis': {'alpha_2': 'KN', 'alpha_3': 'KNA', 'numeric': '659'}, 'Korea, Republic of': {'alpha_2': 'KR', 'alpha_3': 'KOR', 'numeric': '410'}, 'South Korea': {'alpha_2': 'KR', 'alpha_3': 'KOR', 'numeric': '410'}, 'Kuwait': {'alpha_2': 'KW', 'alpha_3': 'KWT', 'numeric': '414'}, 'State of Kuwait': {'alpha_2': 'KW', 'alpha_3': 'KWT', 'numeric': '414'}, \"Lao People's Democratic Republic\": {'alpha_2': 'LA', 'alpha_3': 'LAO', 'numeric': '418'}, 'Laos': {'alpha_2': 'LA', 'alpha_3': 'LAO', 'numeric': '418'}, 'Lebanon': {'alpha_2': 'LB', 'alpha_3': 'LBN', 'numeric': '422'}, 'Lebanese Republic': {'alpha_2': 'LB', 'alpha_3': 'LBN', 'numeric': '422'}, 'Liberia': {'alpha_2': 'LR', 'alpha_3': 'LBR', 'numeric': '430'}, 'Republic of Liberia': {'alpha_2': 'LR', 'alpha_3': 'LBR', 'numeric': '430'}, 'Libya': {'alpha_2': 'LY', 'alpha_3': 'LBY', 'numeric': '434'}, 'Saint Lucia': {'alpha_2': 'LC', 'alpha_3': 'LCA', 'numeric': '662'}, 'Liechtenstein': {'alpha_2': 'LI', 'alpha_3': 'LIE', 'numeric': '438'}, 'Principality of Liechtenstein': {'alpha_2': 'LI', 'alpha_3': 'LIE', 'numeric': '438'}, 'Sri Lanka': {'alpha_2': 'LK', 'alpha_3': 'LKA', 'numeric': '144'}, 'Democratic Socialist Republic of Sri Lanka': {'alpha_2': 'LK', 'alpha_3': 'LKA', 'numeric': '144'}, 'Lesotho': {'alpha_2': 'LS', 'alpha_3': 'LSO', 'numeric': '426'}, 'Kingdom of Lesotho': {'alpha_2': 'LS', 'alpha_3': 'LSO', 'numeric': '426'}, 'Lithuania': {'alpha_2': 'LT', 'alpha_3': 'LTU', 'numeric': '440'}, 'Republic of Lithuania': {'alpha_2': 'LT', 'alpha_3': 'LTU', 'numeric': '440'}, 'Luxembourg': {'alpha_2': 'LU', 'alpha_3': 'LUX', 'numeric': '442'}, 'Grand Duchy of Luxembourg': {'alpha_2': 'LU', 'alpha_3': 'LUX', 'numeric': '442'}, 'Latvia': {'alpha_2': 'LV', 'alpha_3': 'LVA', 'numeric': '428'}, 'Republic of Latvia': {'alpha_2': 'LV', 'alpha_3': 'LVA', 'numeric': '428'}, 'Macao': {'alpha_2': 'MO', 'alpha_3': 'MAC', 'numeric': '446'}, 'Macao Special Administrative Region of China': {'alpha_2': 'MO', 'alpha_3': 'MAC', 'numeric': '446'}, 'Saint Martin (French part)': {'alpha_2': 'MF', 'alpha_3': 'MAF', 'numeric': '663'}, 'Morocco': {'alpha_2': 'MA', 'alpha_3': 'MAR', 'numeric': '504'}, 'Kingdom of Morocco': {'alpha_2': 'MA', 'alpha_3': 'MAR', 'numeric': '504'}, 'Monaco': {'alpha_2': 'MC', 'alpha_3': 'MCO', 'numeric': '492'}, 'Principality of Monaco': {'alpha_2': 'MC', 'alpha_3': 'MCO', 'numeric': '492'}, 'Moldova, Republic of': {'alpha_2': 'MD', 'alpha_3': 'MDA', 'numeric': '498'}, 'Republic of Moldova': {'alpha_2': 'MD', 'alpha_3': 'MDA', 'numeric': '498'}, 'Moldova': {'alpha_2': 'MD', 'alpha_3': 'MDA', 'numeric': '498'}, 'Madagascar': {'alpha_2': 'MG', 'alpha_3': 'MDG', 'numeric': '450'}, 'Republic of Madagascar': {'alpha_2': 'MG', 'alpha_3': 'MDG', 'numeric': '450'}, 'Maldives': {'alpha_2': 'MV', 'alpha_3': 'MDV', 'numeric': '462'}, 'Republic of Maldives': {'alpha_2': 'MV', 'alpha_3': 'MDV', 'numeric': '462'}, 'Mexico': {'alpha_2': 'MX', 'alpha_3': 'MEX', 'numeric': '484'}, 'United Mexican States': {'alpha_2': 'MX', 'alpha_3': 'MEX', 'numeric': '484'}, 'Marshall Islands': {'alpha_2': 'MH', 'alpha_3': 'MHL', 'numeric': '584'}, 'Republic of the Marshall Islands': {'alpha_2': 'MH', 'alpha_3': 'MHL', 'numeric': '584'}, 'North Macedonia': {'alpha_2': 'MK', 'alpha_3': 'MKD', 'numeric': '807'}, 'Republic of North Macedonia': {'alpha_2': 'MK', 'alpha_3': 'MKD', 'numeric': '807'}, 'Mali': {'alpha_2': 'ML', 'alpha_3': 'MLI', 'numeric': '466'}, 'Republic of Mali': {'alpha_2': 'ML', 'alpha_3': 'MLI', 'numeric': '466'}, 'Malta': {'alpha_2': 'MT', 'alpha_3': 'MLT', 'numeric': '470'}, 'Republic of Malta': {'alpha_2': 'MT', 'alpha_3': 'MLT', 'numeric': '470'}, 'Myanmar': {'alpha_2': 'MM', 'alpha_3': 'MMR', 'numeric': '104'}, 'Republic of Myanmar': {'alpha_2': 'MM', 'alpha_3': 'MMR', 'numeric': '104'}, 'Montenegro': {'alpha_2': 'ME', 'alpha_3': 'MNE', 'numeric': '499'}, 'Mongolia': {'alpha_2': 'MN', 'alpha_3': 'MNG', 'numeric': '496'}, 'Northern Mariana Islands': {'alpha_2': 'MP', 'alpha_3': 'MNP', 'numeric': '580'}, 'Commonwealth of the Northern Mariana Islands': {'alpha_2': 'MP', 'alpha_3': 'MNP', 'numeric': '580'}, 'Mozambique': {'alpha_2': 'MZ', 'alpha_3': 'MOZ', 'numeric': '508'}, 'Republic of Mozambique': {'alpha_2': 'MZ', 'alpha_3': 'MOZ', 'numeric': '508'}, 'Mauritania': {'alpha_2': 'MR', 'alpha_3': 'MRT', 'numeric': '478'}, 'Islamic Republic of Mauritania': {'alpha_2': 'MR', 'alpha_3': 'MRT', 'numeric': '478'}, 'Montserrat': {'alpha_2': 'MS', 'alpha_3': 'MSR', 'numeric': '500'}, 'Martinique': {'alpha_2': 'MQ', 'alpha_3': 'MTQ', 'numeric': '474'}, 'Mauritius': {'alpha_2': 'MU', 'alpha_3': 'MUS', 'numeric': '480'}, 'Republic of Mauritius': {'alpha_2': 'MU', 'alpha_3': 'MUS', 'numeric': '480'}, 'Malawi': {'alpha_2': 'MW', 'alpha_3': 'MWI', 'numeric': '454'}, 'Republic of Malawi': {'alpha_2': 'MW', 'alpha_3': 'MWI', 'numeric': '454'}, 'Malaysia': {'alpha_2': 'MY', 'alpha_3': 'MYS', 'numeric': '458'}, 'Mayotte': {'alpha_2': 'YT', 'alpha_3': 'MYT', 'numeric': '175'}, 'Namibia': {'alpha_2': 'NA', 'alpha_3': 'NAM', 'numeric': '516'}, 'Republic of Namibia': {'alpha_2': 'NA', 'alpha_3': 'NAM', 'numeric': '516'}, 'New Caledonia': {'alpha_2': 'NC', 'alpha_3': 'NCL', 'numeric': '540'}, 'Niger': {'alpha_2': 'NE', 'alpha_3': 'NER', 'numeric': '562'}, 'Republic of the Niger': {'alpha_2': 'NE', 'alpha_3': 'NER', 'numeric': '562'}, 'Norfolk Island': {'alpha_2': 'NF', 'alpha_3': 'NFK', 'numeric': '574'}, 'Nigeria': {'alpha_2': 'NG', 'alpha_3': 'NGA', 'numeric': '566'}, 'Federal Republic of Nigeria': {'alpha_2': 'NG', 'alpha_3': 'NGA', 'numeric': '566'}, 'Nicaragua': {'alpha_2': 'NI', 'alpha_3': 'NIC', 'numeric': '558'}, 'Republic of Nicaragua': {'alpha_2': 'NI', 'alpha_3': 'NIC', 'numeric': '558'}, 'Niue': {'alpha_2': 'NU', 'alpha_3': 'NIU', 'numeric': '570'}, 'Netherlands': {'alpha_2': 'NL', 'alpha_3': 'NLD', 'numeric': '528'}, 'Kingdom of the Netherlands': {'alpha_2': 'NL', 'alpha_3': 'NLD', 'numeric': '528'}, 'Norway': {'alpha_2': 'NO', 'alpha_3': 'NOR', 'numeric': '578'}, 'Kingdom of Norway': {'alpha_2': 'NO', 'alpha_3': 'NOR', 'numeric': '578'}, 'Nepal': {'alpha_2': 'NP', 'alpha_3': 'NPL', 'numeric': '524'}, 'Federal Democratic Republic of Nepal': {'alpha_2': 'NP', 'alpha_3': 'NPL', 'numeric': '524'}, 'Nauru': {'alpha_2': 'NR', 'alpha_3': 'NRU', 'numeric': '520'}, 'Republic of Nauru': {'alpha_2': 'NR', 'alpha_3': 'NRU', 'numeric': '520'}, 'New Zealand': {'alpha_2': 'NZ', 'alpha_3': 'NZL', 'numeric': '554'}, 'Oman': {'alpha_2': 'OM', 'alpha_3': 'OMN', 'numeric': '512'}, 'Sultanate of Oman': {'alpha_2': 'OM', 'alpha_3': 'OMN', 'numeric': '512'}, 'Pakistan': {'alpha_2': 'PK', 'alpha_3': 'PAK', 'numeric': '586'}, 'Islamic Republic of Pakistan': {'alpha_2': 'PK', 'alpha_3': 'PAK', 'numeric': '586'}, 'Panama': {'alpha_2': 'PA', 'alpha_3': 'PAN', 'numeric': '591'}, 'Republic of Panama': {'alpha_2': 'PA', 'alpha_3': 'PAN', 'numeric': '591'}, 'Pitcairn': {'alpha_2': 'PN', 'alpha_3': 'PCN', 'numeric': '612'}, 'Peru': {'alpha_2': 'PE', 'alpha_3': 'PER', 'numeric': '604'}, 'Republic of Peru': {'alpha_2': 'PE', 'alpha_3': 'PER', 'numeric': '604'}, 'Philippines': {'alpha_2': 'PH', 'alpha_3': 'PHL', 'numeric': '608'}, 'Republic of the Philippines': {'alpha_2': 'PH', 'alpha_3': 'PHL', 'numeric': '608'}, 'Palau': {'alpha_2': 'PW', 'alpha_3': 'PLW', 'numeric': '585'}, 'Republic of Palau': {'alpha_2': 'PW', 'alpha_3': 'PLW', 'numeric': '585'}, 'Papua New Guinea': {'alpha_2': 'PG', 'alpha_3': 'PNG', 'numeric': '598'}, 'Independent State of Papua New Guinea': {'alpha_2': 'PG', 'alpha_3': 'PNG', 'numeric': '598'}, 'Poland': {'alpha_2': 'PL', 'alpha_3': 'POL', 'numeric': '616'}, 'Republic of Poland': {'alpha_2': 'PL', 'alpha_3': 'POL', 'numeric': '616'}, 'Puerto Rico': {'alpha_2': 'PR', 'alpha_3': 'PRI', 'numeric': '630'}, \"Korea, Democratic People's Republic of\": {'alpha_2': 'KP', 'alpha_3': 'PRK', 'numeric': '408'}, \"Democratic People's Republic of Korea\": {'alpha_2': 'KP', 'alpha_3': 'PRK', 'numeric': '408'}, 'North Korea': {'alpha_2': 'KP', 'alpha_3': 'PRK', 'numeric': '408'}, 'Portugal': {'alpha_2': 'PT', 'alpha_3': 'PRT', 'numeric': '620'}, 'Portuguese Republic': {'alpha_2': 'PT', 'alpha_3': 'PRT', 'numeric': '620'}, 'Paraguay': {'alpha_2': 'PY', 'alpha_3': 'PRY', 'numeric': '600'}, 'Republic of Paraguay': {'alpha_2': 'PY', 'alpha_3': 'PRY', 'numeric': '600'}, 'Palestine, State of': {'alpha_2': 'PS', 'alpha_3': 'PSE', 'numeric': '275'}, 'the State of Palestine': {'alpha_2': 'PS', 'alpha_3': 'PSE', 'numeric': '275'}, 'French Polynesia': {'alpha_2': 'PF', 'alpha_3': 'PYF', 'numeric': '258'}, 'Qatar': {'alpha_2': 'QA', 'alpha_3': 'QAT', 'numeric': '634'}, 'State of Qatar': {'alpha_2': 'QA', 'alpha_3': 'QAT', 'numeric': '634'}, 'Réunion': {'alpha_2': 'RE', 'alpha_3': 'REU', 'numeric': '638'}, 'Romania': {'alpha_2': 'RO', 'alpha_3': 'ROU', 'numeric': '642'}, 'Russian Federation': {'alpha_2': 'RU', 'alpha_3': 'RUS', 'numeric': '643'}, 'Rwanda': {'alpha_2': 'RW', 'alpha_3': 'RWA', 'numeric': '646'}, 'Rwandese Republic': {'alpha_2': 'RW', 'alpha_3': 'RWA', 'numeric': '646'}, 'Saudi Arabia': {'alpha_2': 'SA', 'alpha_3': 'SAU', 'numeric': '682'}, 'Kingdom of Saudi Arabia': {'alpha_2': 'SA', 'alpha_3': 'SAU', 'numeric': '682'}, 'Sudan': {'alpha_2': 'SD', 'alpha_3': 'SDN', 'numeric': '729'}, 'Republic of the Sudan': {'alpha_2': 'SD', 'alpha_3': 'SDN', 'numeric': '729'}, 'Senegal': {'alpha_2': 'SN', 'alpha_3': 'SEN', 'numeric': '686'}, 'Republic of Senegal': {'alpha_2': 'SN', 'alpha_3': 'SEN', 'numeric': '686'}, 'Singapore': {'alpha_2': 'SG', 'alpha_3': 'SGP', 'numeric': '702'}, 'Republic of Singapore': {'alpha_2': 'SG', 'alpha_3': 'SGP', 'numeric': '702'}, 'South Georgia and the South Sandwich Islands': {'alpha_2': 'GS', 'alpha_3': 'SGS', 'numeric': '239'}, 'Saint Helena, Ascension and Tristan da Cunha': {'alpha_2': 'SH', 'alpha_3': 'SHN', 'numeric': '654'}, 'Svalbard and Jan Mayen': {'alpha_2': 'SJ', 'alpha_3': 'SJM', 'numeric': '744'}, 'Solomon Islands': {'alpha_2': 'SB', 'alpha_3': 'SLB', 'numeric': '090'}, 'Sierra Leone': {'alpha_2': 'SL', 'alpha_3': 'SLE', 'numeric': '694'}, 'Republic of Sierra Leone': {'alpha_2': 'SL', 'alpha_3': 'SLE', 'numeric': '694'}, 'El Salvador': {'alpha_2': 'SV', 'alpha_3': 'SLV', 'numeric': '222'}, 'Republic of El Salvador': {'alpha_2': 'SV', 'alpha_3': 'SLV', 'numeric': '222'}, 'San Marino': {'alpha_2': 'SM', 'alpha_3': 'SMR', 'numeric': '674'}, 'Republic of San Marino': {'alpha_2': 'SM', 'alpha_3': 'SMR', 'numeric': '674'}, 'Somalia': {'alpha_2': 'SO', 'alpha_3': 'SOM', 'numeric': '706'}, 'Federal Republic of Somalia': {'alpha_2': 'SO', 'alpha_3': 'SOM', 'numeric': '706'}, 'Saint Pierre and Miquelon': {'alpha_2': 'PM', 'alpha_3': 'SPM', 'numeric': '666'}, 'Serbia': {'alpha_2': 'RS', 'alpha_3': 'SRB', 'numeric': '688'}, 'Republic of Serbia': {'alpha_2': 'RS', 'alpha_3': 'SRB', 'numeric': '688'}, 'South Sudan': {'alpha_2': 'SS', 'alpha_3': 'SSD', 'numeric': '728'}, 'Republic of South Sudan': {'alpha_2': 'SS', 'alpha_3': 'SSD', 'numeric': '728'}, 'Sao Tome and Principe': {'alpha_2': 'ST', 'alpha_3': 'STP', 'numeric': '678'}, 'Democratic Republic of Sao Tome and Principe': {'alpha_2': 'ST', 'alpha_3': 'STP', 'numeric': '678'}, 'Suriname': {'alpha_2': 'SR', 'alpha_3': 'SUR', 'numeric': '740'}, 'Republic of Suriname': {'alpha_2': 'SR', 'alpha_3': 'SUR', 'numeric': '740'}, 'Slovakia': {'alpha_2': 'SK', 'alpha_3': 'SVK', 'numeric': '703'}, 'Slovak Republic': {'alpha_2': 'SK', 'alpha_3': 'SVK', 'numeric': '703'}, 'Slovenia': {'alpha_2': 'SI', 'alpha_3': 'SVN', 'numeric': '705'}, 'Republic of Slovenia': {'alpha_2': 'SI', 'alpha_3': 'SVN', 'numeric': '705'}, 'Sweden': {'alpha_2': 'SE', 'alpha_3': 'SWE', 'numeric': '752'}, 'Kingdom of Sweden': {'alpha_2': 'SE', 'alpha_3': 'SWE', 'numeric': '752'}, 'Eswatini': {'alpha_2': 'SZ', 'alpha_3': 'SWZ', 'numeric': '748'}, 'Kingdom of Eswatini': {'alpha_2': 'SZ', 'alpha_3': 'SWZ', 'numeric': '748'}, 'Sint Maarten (Dutch part)': {'alpha_2': 'SX', 'alpha_3': 'SXM', 'numeric': '534'}, 'Seychelles': {'alpha_2': 'SC', 'alpha_3': 'SYC', 'numeric': '690'}, 'Republic of Seychelles': {'alpha_2': 'SC', 'alpha_3': 'SYC', 'numeric': '690'}, 'Syrian Arab Republic': {'alpha_2': 'SY', 'alpha_3': 'SYR', 'numeric': '760'}, 'Syria': {'alpha_2': 'SY', 'alpha_3': 'SYR', 'numeric': '760'}, 'Turks and Caicos Islands': {'alpha_2': 'TC', 'alpha_3': 'TCA', 'numeric': '796'}, 'Chad': {'alpha_2': 'TD', 'alpha_3': 'TCD', 'numeric': '148'}, 'Republic of Chad': {'alpha_2': 'TD', 'alpha_3': 'TCD', 'numeric': '148'}, 'Togo': {'alpha_2': 'TG', 'alpha_3': 'TGO', 'numeric': '768'}, 'Togolese Republic': {'alpha_2': 'TG', 'alpha_3': 'TGO', 'numeric': '768'}, 'Thailand': {'alpha_2': 'TH', 'alpha_3': 'THA', 'numeric': '764'}, 'Kingdom of Thailand': {'alpha_2': 'TH', 'alpha_3': 'THA', 'numeric': '764'}, 'Tajikistan': {'alpha_2': 'TJ', 'alpha_3': 'TJK', 'numeric': '762'}, 'Republic of Tajikistan': {'alpha_2': 'TJ', 'alpha_3': 'TJK', 'numeric': '762'}, 'Tokelau': {'alpha_2': 'TK', 'alpha_3': 'TKL', 'numeric': '772'}, 'Turkmenistan': {'alpha_2': 'TM', 'alpha_3': 'TKM', 'numeric': '795'}, 'Timor-Leste': {'alpha_2': 'TL', 'alpha_3': 'TLS', 'numeric': '626'}, 'Democratic Republic of Timor-Leste': {'alpha_2': 'TL', 'alpha_3': 'TLS', 'numeric': '626'}, 'Tonga': {'alpha_2': 'TO', 'alpha_3': 'TON', 'numeric': '776'}, 'Kingdom of Tonga': {'alpha_2': 'TO', 'alpha_3': 'TON', 'numeric': '776'}, 'Trinidad and Tobago': {'alpha_2': 'TT', 'alpha_3': 'TTO', 'numeric': '780'}, 'Republic of Trinidad and Tobago': {'alpha_2': 'TT', 'alpha_3': 'TTO', 'numeric': '780'}, 'Tunisia': {'alpha_2': 'TN', 'alpha_3': 'TUN', 'numeric': '788'}, 'Republic of Tunisia': {'alpha_2': 'TN', 'alpha_3': 'TUN', 'numeric': '788'}, 'Türkiye': {'alpha_2': 'TR', 'alpha_3': 'TUR', 'numeric': '792'}, 'Republic of Türkiye': {'alpha_2': 'TR', 'alpha_3': 'TUR', 'numeric': '792'}, 'Tuvalu': {'alpha_2': 'TV', 'alpha_3': 'TUV', 'numeric': '798'}, 'Taiwan, Province of China': {'alpha_2': 'TW', 'alpha_3': 'TWN', 'numeric': '158'}, 'Taiwan': {'alpha_2': 'TW', 'alpha_3': 'TWN', 'numeric': '158'}, 'Tanzania, United Republic of': {'alpha_2': 'TZ', 'alpha_3': 'TZA', 'numeric': '834'}, 'United Republic of Tanzania': {'alpha_2': 'TZ', 'alpha_3': 'TZA', 'numeric': '834'}, 'Tanzania': {'alpha_2': 'TZ', 'alpha_3': 'TZA', 'numeric': '834'}, 'Uganda': {'alpha_2': 'UG', 'alpha_3': 'UGA', 'numeric': '800'}, 'Republic of Uganda': {'alpha_2': 'UG', 'alpha_3': 'UGA', 'numeric': '800'}, 'Ukraine': {'alpha_2': 'UA', 'alpha_3': 'UKR', 'numeric': '804'}, 'United States Minor Outlying Islands': {'alpha_2': 'UM', 'alpha_3': 'UMI', 'numeric': '581'}, 'Uruguay': {'alpha_2': 'UY', 'alpha_3': 'URY', 'numeric': '858'}, 'Eastern Republic of Uruguay': {'alpha_2': 'UY', 'alpha_3': 'URY', 'numeric': '858'}, 'United States': {'alpha_2': 'US', 'alpha_3': 'USA', 'numeric': '840'}, 'United States of America': {'alpha_2': 'US', 'alpha_3': 'USA', 'numeric': '840'}, 'Uzbekistan': {'alpha_2': 'UZ', 'alpha_3': 'UZB', 'numeric': '860'}, 'Republic of Uzbekistan': {'alpha_2': 'UZ', 'alpha_3': 'UZB', 'numeric': '860'}, 'Holy See (Vatican City State)': {'alpha_2': 'VA', 'alpha_3': 'VAT', 'numeric': '336'}, 'Saint Vincent and the Grenadines': {'alpha_2': 'VC', 'alpha_3': 'VCT', 'numeric': '670'}, 'Venezuela, Bolivarian Republic of': {'alpha_2': 'VE', 'alpha_3': 'VEN', 'numeric': '862'}, 'Bolivarian Republic of Venezuela': {'alpha_2': 'VE', 'alpha_3': 'VEN', 'numeric': '862'}, 'Venezuela': {'alpha_2': 'VE', 'alpha_3': 'VEN', 'numeric': '862'}, 'Virgin Islands, British': {'alpha_2': 'VG', 'alpha_3': 'VGB', 'numeric': '092'}, 'British Virgin Islands': {'alpha_2': 'VG', 'alpha_3': 'VGB', 'numeric': '092'}, 'Virgin Islands, U.S.': {'alpha_2': 'VI', 'alpha_3': 'VIR', 'numeric': '850'}, 'Virgin Islands of the United States': {'alpha_2': 'VI', 'alpha_3': 'VIR', 'numeric': '850'}, 'Viet Nam': {'alpha_2': 'VN', 'alpha_3': 'VNM', 'numeric': '704'}, 'Socialist Republic of Viet Nam': {'alpha_2': 'VN', 'alpha_3': 'VNM', 'numeric': '704'}, 'Vietnam': {'alpha_2': 'VN', 'alpha_3': 'VNM', 'numeric': '704'}, 'Vanuatu': {'alpha_2': 'VU', 'alpha_3': 'VUT', 'numeric': '548'}, 'Republic of Vanuatu': {'alpha_2': 'VU', 'alpha_3': 'VUT', 'numeric': '548'}, 'Wallis and Futuna': {'alpha_2': 'WF', 'alpha_3': 'WLF', 'numeric': '876'}, 'Samoa': {'alpha_2': 'WS', 'alpha_3': 'WSM', 'numeric': '882'}, 'Independent State of Samoa': {'alpha_2': 'WS', 'alpha_3': 'WSM', 'numeric': '882'}, 'Yemen': {'alpha_2': 'YE', 'alpha_3': 'YEM', 'numeric': '887'}, 'Republic of Yemen': {'alpha_2': 'YE', 'alpha_3': 'YEM', 'numeric': '887'}, 'South Africa': {'alpha_2': 'ZA', 'alpha_3': 'ZAF', 'numeric': '710'}, 'Republic of South Africa': {'alpha_2': 'ZA', 'alpha_3': 'ZAF', 'numeric': '710'}, 'Zambia': {'alpha_2': 'ZM', 'alpha_3': 'ZMB', 'numeric': '894'}, 'Republic of Zambia': {'alpha_2': 'ZM', 'alpha_3': 'ZMB', 'numeric': '894'}, 'Zimbabwe': {'alpha_2': 'ZW', 'alpha_3': 'ZWE', 'numeric': '716'}, 'Republic of Zimbabwe': {'alpha_2': 'ZW', 'alpha_3': 'ZWE', 'numeric': '716'}, 'Bonaire': {'alpha_2': 'BQ', 'alpha_3': 'BES', 'numeric': '535'}, 'Brunei': {'alpha_2': 'BN', 'alpha_3': 'BRN', 'numeric': '096'}, 'Cape Verde': {'alpha_2': 'CV', 'alpha_3': 'CPV', 'numeric': '132'}, 'Congo, Republic of': {'alpha_2': 'CG', 'alpha_3': 'COG', 'numeric': '178'}, 'Congo, Democratic Republic of': {'alpha_2': 'CD', 'alpha_3': 'COD', 'numeric': '180'}, 'Democratic Republic of the Congo': {'alpha_2': 'CD', 'alpha_3': 'COD', 'numeric': '180'}, 'East Timor': {'alpha_2': 'TL', 'alpha_3': 'TLS', 'numeric': '626'}, 'Falkland Islands': {'alpha_2': 'FK', 'alpha_3': 'FLK', 'numeric': '238'}, 'Great Britain': {'alpha_2': 'GB', 'alpha_3': 'GBR', 'numeric': '826'}, 'Ivory Coast': {'alpha_2': 'CI', 'alpha_3': 'CIV', 'numeric': '384'}, 'Korea, Republic Of': {'alpha_2': 'KR', 'alpha_3': 'KOR', 'numeric': '410'}, 'Macau': {'alpha_2': 'MO', 'alpha_3': 'MAC', 'numeric': '446'}, 'Macedonia': {'alpha_2': 'MK', 'alpha_3': 'MKD', 'numeric': '807'}, 'Macedonia, The Former Yugoslav Republic Of': {'alpha_2': 'MK', 'alpha_3': 'MKD', 'numeric': '807'}, 'Micronesia': {'alpha_2': 'FM', 'alpha_3': 'FSM', 'numeric': '583'}, 'Moldova, Republic Of': {'alpha_2': 'MD', 'alpha_3': 'MDA', 'numeric': '498'}, 'Northern Cyprus': {'alpha_2': 'CY', 'alpha_3': 'CYP', 'numeric': '196'}, 'Palestine': {'alpha_2': 'PS', 'alpha_3': 'PSE', 'numeric': '275'}, 'Russia': {'alpha_2': 'RU', 'alpha_3': 'RUS', 'numeric': '643'}, 'Saba': {'alpha_2': 'BQ', 'alpha_3': 'BES', 'numeric': '535'}, 'St. Kitts and Nevis': {'alpha_2': 'KN', 'alpha_3': 'KNA', 'numeric': '659'}, 'St. Lucia': {'alpha_2': 'LC', 'alpha_3': 'LCA', 'numeric': '662'}, 'Saint Martin': {'alpha_2': 'MF', 'alpha_3': 'MAF', 'numeric': '663'}, 'St. Martin': {'alpha_2': 'MF', 'alpha_3': 'MAF', 'numeric': '663'}, 'St. Pierre and Miquelon': {'alpha_2': 'PM', 'alpha_3': 'SPM', 'numeric': '666'}, 'St. Vincent and The Grenadines': {'alpha_2': 'VC', 'alpha_3': 'VCT', 'numeric': '670'}, 'Sint Eustatius': {'alpha_2': 'BQ', 'alpha_3': 'BES', 'numeric': '535'}, 'Somaliland': {'alpha_2': 'SO', 'alpha_3': 'SOM', 'numeric': '706'}, 'Svalbard': {'alpha_2': 'SJ', 'alpha_3': 'SJM', 'numeric': '744'}, 'Swaziland': {'alpha_2': 'SZ', 'alpha_3': 'SWZ', 'numeric': '748'}, 'São Tomé and Príncipe': {'alpha_2': 'ST', 'alpha_3': 'STP', 'numeric': '678'}, 'Tanzania, United Republic Of': {'alpha_2': 'TZ', 'alpha_3': 'TZA', 'numeric': '834'}, 'Turkey': {'alpha_2': 'TR', 'alpha_3': 'TUR', 'numeric': '792'}, 'Turks and Caicos': {'alpha_2': 'TC', 'alpha_3': 'TCA', 'numeric': '796'}, 'United States Virgin Islands': {'alpha_2': 'VI', 'alpha_3': 'VIR', 'numeric': '850'}}\n"
     ]
    }
   ],
   "source": [
    "country_map = convertcountry.map_countries(cn_name_format=\"default\")\n",
    "\n",
    "print(country_map)"
   ]
  },
  {
   "cell_type": "code",
   "execution_count": 11,
   "id": "f45363d4",
   "metadata": {},
   "outputs": [],
   "source": [
    "def convert_country_name_to_continent(country_name):\n",
    "    try:\n",
    "        country = pycountry.countries.lookup(country_name)\n",
    "        alpha2 = country.alpha_2\n",
    "        continent_code = convertcountry.country_alpha2_to_continent_code(alpha2)\n",
    "        continent_name = convertcountry.convert_continent_code_to_continent_name(continent_code)\n",
    "        return continent_name\n",
    "    except:\n",
    "        return None\n"
   ]
  },
  {
   "cell_type": "code",
   "execution_count": 12,
   "id": "3acb4e43",
   "metadata": {},
   "outputs": [
    {
     "data": {
      "text/html": [
       "<div>\n",
       "<style scoped>\n",
       "    .dataframe tbody tr th:only-of-type {\n",
       "        vertical-align: middle;\n",
       "    }\n",
       "\n",
       "    .dataframe tbody tr th {\n",
       "        vertical-align: top;\n",
       "    }\n",
       "\n",
       "    .dataframe thead th {\n",
       "        text-align: right;\n",
       "    }\n",
       "</style>\n",
       "<table border=\"1\" class=\"dataframe\">\n",
       "  <thead>\n",
       "    <tr style=\"text-align: right;\">\n",
       "      <th></th>\n",
       "      <th>Country</th>\n",
       "      <th>GDP_IMF</th>\n",
       "      <th>Country_fixed</th>\n",
       "      <th>Region</th>\n",
       "    </tr>\n",
       "  </thead>\n",
       "  <tbody>\n",
       "    <tr>\n",
       "      <th>205</th>\n",
       "      <td>Kiribati</td>\n",
       "      <td>311.0</td>\n",
       "      <td>Kiribati</td>\n",
       "      <td>Oceania</td>\n",
       "    </tr>\n",
       "    <tr>\n",
       "      <th>206</th>\n",
       "      <td>Palau</td>\n",
       "      <td>308.0</td>\n",
       "      <td>Palau</td>\n",
       "      <td>Oceania</td>\n",
       "    </tr>\n",
       "    <tr>\n",
       "      <th>207</th>\n",
       "      <td>Marshall Islands</td>\n",
       "      <td>305.0</td>\n",
       "      <td>Marshall Islands</td>\n",
       "      <td>Oceania</td>\n",
       "    </tr>\n",
       "    <tr>\n",
       "      <th>208</th>\n",
       "      <td>Nauru</td>\n",
       "      <td>161.0</td>\n",
       "      <td>Nauru</td>\n",
       "      <td>Oceania</td>\n",
       "    </tr>\n",
       "    <tr>\n",
       "      <th>209</th>\n",
       "      <td>Tuvalu</td>\n",
       "      <td>66.0</td>\n",
       "      <td>Tuvalu</td>\n",
       "      <td>Oceania</td>\n",
       "    </tr>\n",
       "  </tbody>\n",
       "</table>\n",
       "</div>"
      ],
      "text/plain": [
       "              Country  GDP_IMF     Country_fixed   Region\n",
       "205          Kiribati    311.0          Kiribati  Oceania\n",
       "206             Palau    308.0             Palau  Oceania\n",
       "207  Marshall Islands    305.0  Marshall Islands  Oceania\n",
       "208             Nauru    161.0             Nauru  Oceania\n",
       "209            Tuvalu     66.0            Tuvalu  Oceania"
      ]
     },
     "execution_count": 12,
     "metadata": {},
     "output_type": "execute_result"
    }
   ],
   "source": [
    "# Map region to each country in your GDP data\n",
    "gdp_imf['Region'] = gdp_imf['Country_fixed'].apply(convert_country_name_to_continent)\n",
    "gdp_imf.tail()"
   ]
  },
  {
   "cell_type": "code",
   "execution_count": 13,
   "id": "bf00cee1",
   "metadata": {},
   "outputs": [
    {
     "name": "stdout",
     "output_type": "stream",
     "text": [
      "(209, 4)\n",
      "3\n",
      "['North America' 'Asia' 'Europe' 'South America' 'Oceania' None 'Africa']\n"
     ]
    }
   ],
   "source": [
    "print(gdp_imf.shape)\n",
    "print(gdp_imf['Region'].isna().sum())\n",
    "print(gdp_imf['Region'].unique())\n"
   ]
  },
  {
   "cell_type": "code",
   "execution_count": 14,
   "id": "d3c6e42b",
   "metadata": {},
   "outputs": [
    {
     "name": "stdout",
     "output_type": "stream",
     "text": [
      "Unmapped countries (still NaN in Region):\n",
      "     Country Country_fixed\n",
      "Sint Maarten  Sint Maarten\n",
      " Timor-Leste   Timor-Leste\n",
      "      Turkey        Turkey\n"
     ]
    }
   ],
   "source": [
    "# Show unmapped countries\n",
    "unmapped = gdp_imf[gdp_imf['Region'].isna()][['Country', 'Country_fixed']]\n",
    "print(\"Unmapped countries (still NaN in Region):\")\n",
    "print(unmapped.sort_values('Country').to_string(index=False))\n"
   ]
  },
  {
   "cell_type": "code",
   "execution_count": 15,
   "id": "ace83be8",
   "metadata": {},
   "outputs": [],
   "source": [
    "# creating manual fix dictionary\n",
    "manual_region_fixes = {\n",
    "    'Sint Maarten': 'North America',\n",
    "    'Timor-Leste': 'Asia',\n",
    "    'Turkey': 'Europe'\n",
    "}\n",
    "\n",
    "gdp_imf['Region'] = gdp_imf['Region'].fillna(gdp_imf['Country_fixed'].map(manual_region_fixes))\n"
   ]
  },
  {
   "cell_type": "code",
   "execution_count": 16,
   "id": "4b56819f",
   "metadata": {},
   "outputs": [
    {
     "data": {
      "text/html": [
       "<div>\n",
       "<style scoped>\n",
       "    .dataframe tbody tr th:only-of-type {\n",
       "        vertical-align: middle;\n",
       "    }\n",
       "\n",
       "    .dataframe tbody tr th {\n",
       "        vertical-align: top;\n",
       "    }\n",
       "\n",
       "    .dataframe thead th {\n",
       "        text-align: right;\n",
       "    }\n",
       "</style>\n",
       "<table border=\"1\" class=\"dataframe\">\n",
       "  <thead>\n",
       "    <tr style=\"text-align: right;\">\n",
       "      <th></th>\n",
       "      <th>Country</th>\n",
       "      <th>GDP_IMF</th>\n",
       "      <th>Country_fixed</th>\n",
       "      <th>Region</th>\n",
       "    </tr>\n",
       "  </thead>\n",
       "  <tbody>\n",
       "  </tbody>\n",
       "</table>\n",
       "</div>"
      ],
      "text/plain": [
       "Empty DataFrame\n",
       "Columns: [Country, GDP_IMF, Country_fixed, Region]\n",
       "Index: []"
      ]
     },
     "execution_count": 16,
     "metadata": {},
     "output_type": "execute_result"
    }
   ],
   "source": [
    "gdp_imf[gdp_imf['Region'].isna()]  # should return an empty DataFrame\n"
   ]
  },
  {
   "cell_type": "code",
   "execution_count": 17,
   "id": "c8b2a31d",
   "metadata": {},
   "outputs": [
    {
     "data": {
      "application/vnd.plotly.v1+json": {
       "config": {
        "plotlyServerURL": "https://plot.ly"
       },
       "data": [
        {
         "alignmentgroup": "True",
         "customdata": [
          [
           "United States"
          ],
          [
           "China"
          ],
          [
           "Germany"
          ],
          [
           "Japan"
          ],
          [
           "India"
          ],
          [
           "United Kingdom"
          ],
          [
           "France"
          ],
          [
           "Italy"
          ],
          [
           "Canada"
          ],
          [
           "Brazil"
          ],
          [
           "Russia"
          ],
          [
           "South Korea"
          ],
          [
           "Australia"
          ],
          [
           "Spain"
          ],
          [
           "Mexico"
          ],
          [
           "Indonesia"
          ],
          [
           "Turkey"
          ],
          [
           "Netherlands"
          ],
          [
           "Saudi Arabia"
          ],
          [
           "Switzerland"
          ],
          [
           "Poland"
          ],
          [
           "Taiwan"
          ],
          [
           "Belgium"
          ],
          [
           "Sweden"
          ],
          [
           "Argentina"
          ],
          [
           "Ireland"
          ],
          [
           "United Arab Emirates"
          ],
          [
           "Singapore"
          ],
          [
           "Austria"
          ],
          [
           "Israel"
          ],
          [
           "Thailand"
          ],
          [
           "Philippines"
          ],
          [
           "Vietnam"
          ],
          [
           "Norway"
          ],
          [
           "Malaysia"
          ],
          [
           "Iran"
          ],
          [
           "Bangladesh"
          ],
          [
           "Denmark"
          ],
          [
           "Hong Kong"
          ],
          [
           "Colombia"
          ],
          [
           "South Africa"
          ],
          [
           "Romania"
          ],
          [
           "Pakistan"
          ],
          [
           "Chile"
          ],
          [
           "Czech Republic"
          ],
          [
           "Egypt"
          ],
          [
           "Finland"
          ],
          [
           "Portugal"
          ],
          [
           "Hungary"
          ],
          [
           "Kazakhstan"
          ],
          [
           "Peru"
          ],
          [
           "Iraq"
          ],
          [
           "Greece"
          ],
          [
           "Algeria"
          ],
          [
           "New Zealand"
          ],
          [
           "Qatar"
          ],
          [
           "Ethiopia"
          ],
          [
           "Nigeria"
          ],
          [
           "Ukraine"
          ],
          [
           "Morocco"
          ],
          [
           "Kuwait"
          ],
          [
           "Slovakia"
          ],
          [
           "Cuba"
          ],
          [
           "Dominican Republic"
          ],
          [
           "Uzbekistan"
          ],
          [
           "Ecuador"
          ],
          [
           "Puerto Rico"
          ],
          [
           "Guatemala"
          ],
          [
           "Angola"
          ],
          [
           "Kenya"
          ],
          [
           "Bulgaria"
          ],
          [
           "Oman"
          ],
          [
           "Venezuela"
          ],
          [
           "Costa Rica"
          ],
          [
           "Sri Lanka"
          ],
          [
           "Luxembourg"
          ],
          [
           "Croatia"
          ],
          [
           "Panama"
          ],
          [
           "Ivory Coast"
          ],
          [
           "Uruguay"
          ],
          [
           "Turkmenistan"
          ],
          [
           "Lithuania"
          ],
          [
           "Serbia"
          ],
          [
           "Tanzania"
          ],
          [
           "Azerbaijan"
          ],
          [
           "Ghana"
          ],
          [
           "Slovenia"
          ],
          [
           "Belarus"
          ],
          [
           "DR Congo"
          ],
          [
           "Myanmar"
          ],
          [
           "Uganda"
          ],
          [
           "Macau"
          ],
          [
           "Cameroon"
          ],
          [
           "Jordan"
          ],
          [
           "Tunisia"
          ],
          [
           "Cambodia"
          ],
          [
           "Bolivia"
          ],
          [
           "Bahrain"
          ],
          [
           "Latvia"
          ],
          [
           "Paraguay"
          ],
          [
           "Libya"
          ],
          [
           "Nepal"
          ],
          [
           "Estonia"
          ],
          [
           "Honduras"
          ],
          [
           "Zimbabwe"
          ],
          [
           "El Salvador"
          ],
          [
           "Cyprus"
          ],
          [
           "Senegal"
          ],
          [
           "Georgia"
          ],
          [
           "Iceland"
          ],
          [
           "Papua New Guinea"
          ],
          [
           "Sudan"
          ],
          [
           "Zambia"
          ],
          [
           "Bosnia and Herzegovina"
          ],
          [
           "Trinidad and Tobago"
          ],
          [
           "Guinea"
          ],
          [
           "Albania"
          ],
          [
           "Armenia"
          ],
          [
           "Haiti"
          ],
          [
           "Mozambique"
          ],
          [
           "Malta"
          ],
          [
           "Mongolia"
          ],
          [
           "Burkina Faso"
          ],
          [
           "Lebanon"
          ],
          [
           "Mali"
          ],
          [
           "Botswana"
          ],
          [
           "Benin"
          ],
          [
           "Guyana"
          ],
          [
           "Gabon"
          ],
          [
           "Jamaica"
          ],
          [
           "Nicaragua"
          ],
          [
           "Niger"
          ],
          [
           "Chad"
          ],
          [
           "Palestine"
          ],
          [
           "Syria"
          ],
          [
           "Moldova"
          ],
          [
           "Yemen"
          ],
          [
           "Madagascar"
          ],
          [
           "Mauritius"
          ],
          [
           "Brunei"
          ],
          [
           "North Macedonia"
          ],
          [
           "Kyrgyzstan"
          ],
          [
           "Congo"
          ],
          [
           "Laos"
          ],
          [
           "North Korea"
          ],
          [
           "Afghanistan"
          ],
          [
           "Bahamas"
          ],
          [
           "Rwanda"
          ],
          [
           "Tajikistan"
          ],
          [
           "Somalia"
          ],
          [
           "Namibia"
          ],
          [
           "Kosovo"
          ],
          [
           "Malawi"
          ],
          [
           "Equatorial Guinea"
          ],
          [
           "Mauritania"
          ],
          [
           "Togo"
          ],
          [
           "New Caledonia"
          ],
          [
           "Monaco"
          ],
          [
           "Montenegro"
          ],
          [
           "Bermuda"
          ],
          [
           "Liechtenstein"
          ],
          [
           "Maldives"
          ],
          [
           "Barbados"
          ],
          [
           "Cayman Islands"
          ],
          [
           "South Sudan"
          ],
          [
           "French Polynesia"
          ],
          [
           "Fiji"
          ],
          [
           "Eswatini"
          ],
          [
           "Liberia"
          ],
          [
           "Sierra Leone"
          ],
          [
           "Djibouti"
          ],
          [
           "Suriname"
          ],
          [
           "Aruba"
          ],
          [
           "Andorra"
          ],
          [
           "Belize"
          ],
          [
           "Bhutan"
          ],
          [
           "Burundi"
          ],
          [
           "Curaçao"
          ],
          [
           "Greenland"
          ],
          [
           "Central African Republic"
          ],
          [
           "Cape Verde"
          ],
          [
           "Gambia"
          ],
          [
           "Saint Lucia"
          ],
          [
           "Lesotho"
          ],
          [
           "Eritrea"
          ],
          [
           "Zanzibar"
          ],
          [
           "Seychelles"
          ],
          [
           "Guinea-Bissau"
          ],
          [
           "Antigua and Barbuda"
          ],
          [
           "San Marino"
          ],
          [
           "Timor-Leste"
          ],
          [
           "Solomon Islands"
          ],
          [
           "Sint Maarten"
          ],
          [
           "Comoros"
          ],
          [
           "Grenada"
          ],
          [
           "Turks and Caicos Islands"
          ],
          [
           "Vanuatu"
          ],
          [
           "Saint Kitts and Nevis"
          ],
          [
           "Saint Vincent and the Grenadines"
          ],
          [
           "Samoa"
          ],
          [
           "São Tomé and Príncipe"
          ],
          [
           "Dominica"
          ],
          [
           "Tonga"
          ],
          [
           "Micronesia"
          ],
          [
           "Kiribati"
          ],
          [
           "Palau"
          ],
          [
           "Marshall Islands"
          ],
          [
           "Nauru"
          ],
          [
           "Tuvalu"
          ]
         ],
         "hovertemplate": "Region=%{x}<br>GDP (Millions USD)=%{y}<br>Country=%{customdata[0]}<extra></extra>",
         "legendgroup": "",
         "marker": {
          "color": "#636efa",
          "pattern": {
           "shape": ""
          }
         },
         "name": "",
         "offsetgroup": "",
         "orientation": "v",
         "showlegend": false,
         "textposition": "auto",
         "type": "bar",
         "x": [
          "North America",
          "Asia",
          "Europe",
          "Asia",
          "Asia",
          "Europe",
          "Europe",
          "Europe",
          "North America",
          "South America",
          "Europe",
          "Asia",
          "Oceania",
          "Europe",
          "North America",
          "Asia",
          "Europe",
          "Europe",
          "Asia",
          "Europe",
          "Europe",
          "Asia",
          "Europe",
          "Europe",
          "South America",
          "Europe",
          "Asia",
          "Asia",
          "Europe",
          "Asia",
          "Asia",
          "Asia",
          "Asia",
          "Europe",
          "Asia",
          "Asia",
          "Asia",
          "Europe",
          "Asia",
          "South America",
          "Africa",
          "Europe",
          "Asia",
          "South America",
          "Europe",
          "Africa",
          "Europe",
          "Europe",
          "Europe",
          "Asia",
          "South America",
          "Asia",
          "Europe",
          "Africa",
          "Oceania",
          "Asia",
          "Africa",
          "Africa",
          "Europe",
          "Africa",
          "Asia",
          "Europe",
          "North America",
          "North America",
          "Asia",
          "South America",
          "North America",
          "North America",
          "Africa",
          "Africa",
          "Europe",
          "Asia",
          "South America",
          "North America",
          "Asia",
          "Europe",
          "Europe",
          "North America",
          "Africa",
          "South America",
          "Asia",
          "Europe",
          "Europe",
          "Africa",
          "Asia",
          "Africa",
          "Europe",
          "Europe",
          "Africa",
          "Asia",
          "Africa",
          "Asia",
          "Africa",
          "Asia",
          "Africa",
          "Asia",
          "South America",
          "Asia",
          "Europe",
          "South America",
          "Africa",
          "Asia",
          "Europe",
          "North America",
          "Africa",
          "North America",
          "Asia",
          "Africa",
          "Asia",
          "Europe",
          "Oceania",
          "Africa",
          "Africa",
          "Europe",
          "North America",
          "Africa",
          "Europe",
          "Asia",
          "North America",
          "Africa",
          "Europe",
          "Asia",
          "Africa",
          "Asia",
          "Africa",
          "Africa",
          "Africa",
          "South America",
          "Africa",
          "North America",
          "North America",
          "Africa",
          "Africa",
          "Asia",
          "Asia",
          "Europe",
          "Asia",
          "Africa",
          "Africa",
          "Asia",
          "Europe",
          "Asia",
          "Africa",
          "Asia",
          "Asia",
          "Asia",
          "North America",
          "Africa",
          "Asia",
          "Africa",
          "Africa",
          "Europe",
          "Africa",
          "Africa",
          "Africa",
          "Africa",
          "Oceania",
          "Europe",
          "Europe",
          "North America",
          "Europe",
          "Asia",
          "North America",
          "North America",
          "Africa",
          "Oceania",
          "Oceania",
          "Africa",
          "Africa",
          "Africa",
          "Africa",
          "South America",
          "North America",
          "Europe",
          "North America",
          "Asia",
          "Africa",
          "North America",
          "North America",
          "Africa",
          "Africa",
          "Africa",
          "North America",
          "Africa",
          "Africa",
          "Africa",
          "Africa",
          "Africa",
          "North America",
          "Europe",
          "Asia",
          "Oceania",
          "North America",
          "Africa",
          "North America",
          "North America",
          "Oceania",
          "North America",
          "North America",
          "Oceania",
          "Africa",
          "North America",
          "Oceania",
          "Oceania",
          "Oceania",
          "Oceania",
          "Oceania",
          "Oceania",
          "Oceania"
         ],
         "xaxis": "x",
         "y": [
          30338000,
          19535000,
          4922000,
          4390000,
          4270000,
          3731000,
          3284000,
          2460000,
          2331000,
          2308000,
          2197000,
          1948000,
          1882000,
          1828000,
          1818000,
          1493000,
          1458000,
          1273000,
          1138000,
          1000000,
          915451,
          814438,
          689364,
          638780,
          604201,
          587225,
          568567,
          561730,
          559218,
          550905,
          545341,
          507670,
          506600,
          503470,
          488700,
          478100,
          457700,
          432228,
          422057,
          419331,
          418046,
          406202,
          393100,
          362240,
          360233,
          345800,
          319989,
          319934,
          312619,
          306629,
          294898,
          270874,
          265171,
          264270,
          262924,
          240217,
          238910,
          194760,
          189827,
          168597,
          161950,
          152480,
          null,
          135540,
          127410,
          125660,
          122230,
          120960,
          118410,
          116660,
          115530,
          111310,
          109960,
          100670,
          98980,
          96990,
          96030,
          91739,
          86993,
          86423,
          83883,
          82789,
          82550,
          79867,
          75649,
          75307,
          73198,
          73129,
          72483,
          64284,
          55587,
          55447,
          53391,
          53305,
          52636,
          51159,
          48172,
          47812,
          45521,
          44937,
          44812,
          43673,
          43044,
          36735,
          35919,
          35848,
          34790,
          33685,
          33191,
          32919,
          31716,
          30873,
          29872,
          29078,
          28365,
          25447,
          25431,
          25408,
          24046,
          22975,
          22737,
          21943,
          21902,
          21780,
          21662,
          21418,
          21371,
          21178,
          21013,
          20098,
          18829,
          18816,
          18697,
          18602,
          null,
          18356,
          16940,
          16465,
          16359,
          15988,
          15873,
          15770,
          15501,
          15190,
          null,
          14467,
          14390,
          13701,
          13000,
          12804,
          12765,
          11318,
          11241,
          10708,
          10628,
          9832,
          null,
          null,
          8010,
          null,
          null,
          7199,
          6863,
          null,
          6517,
          null,
          5801,
          5085,
          4754,
          4558,
          4364,
          4337,
          4069,
          3897,
          3296,
          3110,
          3075,
          null,
          null,
          2810,
          2718,
          2694,
          2582,
          2395,
          null,
          null,
          2203,
          2151,
          2127,
          2033,
          1992,
          1707,
          null,
          1422,
          1406,
          null,
          1289,
          1134,
          1128,
          1024,
          751,
          708,
          581,
          484,
          311,
          308,
          305,
          161,
          66
         ],
         "yaxis": "y"
        }
       ],
       "layout": {
        "barmode": "relative",
        "legend": {
         "tracegroupgap": 0
        },
        "template": {
         "data": {
          "bar": [
           {
            "error_x": {
             "color": "#2a3f5f"
            },
            "error_y": {
             "color": "#2a3f5f"
            },
            "marker": {
             "line": {
              "color": "#E5ECF6",
              "width": 0.5
             },
             "pattern": {
              "fillmode": "overlay",
              "size": 10,
              "solidity": 0.2
             }
            },
            "type": "bar"
           }
          ],
          "barpolar": [
           {
            "marker": {
             "line": {
              "color": "#E5ECF6",
              "width": 0.5
             },
             "pattern": {
              "fillmode": "overlay",
              "size": 10,
              "solidity": 0.2
             }
            },
            "type": "barpolar"
           }
          ],
          "carpet": [
           {
            "aaxis": {
             "endlinecolor": "#2a3f5f",
             "gridcolor": "white",
             "linecolor": "white",
             "minorgridcolor": "white",
             "startlinecolor": "#2a3f5f"
            },
            "baxis": {
             "endlinecolor": "#2a3f5f",
             "gridcolor": "white",
             "linecolor": "white",
             "minorgridcolor": "white",
             "startlinecolor": "#2a3f5f"
            },
            "type": "carpet"
           }
          ],
          "choropleth": [
           {
            "colorbar": {
             "outlinewidth": 0,
             "ticks": ""
            },
            "type": "choropleth"
           }
          ],
          "contour": [
           {
            "colorbar": {
             "outlinewidth": 0,
             "ticks": ""
            },
            "colorscale": [
             [
              0,
              "#0d0887"
             ],
             [
              0.1111111111111111,
              "#46039f"
             ],
             [
              0.2222222222222222,
              "#7201a8"
             ],
             [
              0.3333333333333333,
              "#9c179e"
             ],
             [
              0.4444444444444444,
              "#bd3786"
             ],
             [
              0.5555555555555556,
              "#d8576b"
             ],
             [
              0.6666666666666666,
              "#ed7953"
             ],
             [
              0.7777777777777778,
              "#fb9f3a"
             ],
             [
              0.8888888888888888,
              "#fdca26"
             ],
             [
              1,
              "#f0f921"
             ]
            ],
            "type": "contour"
           }
          ],
          "contourcarpet": [
           {
            "colorbar": {
             "outlinewidth": 0,
             "ticks": ""
            },
            "type": "contourcarpet"
           }
          ],
          "heatmap": [
           {
            "colorbar": {
             "outlinewidth": 0,
             "ticks": ""
            },
            "colorscale": [
             [
              0,
              "#0d0887"
             ],
             [
              0.1111111111111111,
              "#46039f"
             ],
             [
              0.2222222222222222,
              "#7201a8"
             ],
             [
              0.3333333333333333,
              "#9c179e"
             ],
             [
              0.4444444444444444,
              "#bd3786"
             ],
             [
              0.5555555555555556,
              "#d8576b"
             ],
             [
              0.6666666666666666,
              "#ed7953"
             ],
             [
              0.7777777777777778,
              "#fb9f3a"
             ],
             [
              0.8888888888888888,
              "#fdca26"
             ],
             [
              1,
              "#f0f921"
             ]
            ],
            "type": "heatmap"
           }
          ],
          "heatmapgl": [
           {
            "colorbar": {
             "outlinewidth": 0,
             "ticks": ""
            },
            "colorscale": [
             [
              0,
              "#0d0887"
             ],
             [
              0.1111111111111111,
              "#46039f"
             ],
             [
              0.2222222222222222,
              "#7201a8"
             ],
             [
              0.3333333333333333,
              "#9c179e"
             ],
             [
              0.4444444444444444,
              "#bd3786"
             ],
             [
              0.5555555555555556,
              "#d8576b"
             ],
             [
              0.6666666666666666,
              "#ed7953"
             ],
             [
              0.7777777777777778,
              "#fb9f3a"
             ],
             [
              0.8888888888888888,
              "#fdca26"
             ],
             [
              1,
              "#f0f921"
             ]
            ],
            "type": "heatmapgl"
           }
          ],
          "histogram": [
           {
            "marker": {
             "pattern": {
              "fillmode": "overlay",
              "size": 10,
              "solidity": 0.2
             }
            },
            "type": "histogram"
           }
          ],
          "histogram2d": [
           {
            "colorbar": {
             "outlinewidth": 0,
             "ticks": ""
            },
            "colorscale": [
             [
              0,
              "#0d0887"
             ],
             [
              0.1111111111111111,
              "#46039f"
             ],
             [
              0.2222222222222222,
              "#7201a8"
             ],
             [
              0.3333333333333333,
              "#9c179e"
             ],
             [
              0.4444444444444444,
              "#bd3786"
             ],
             [
              0.5555555555555556,
              "#d8576b"
             ],
             [
              0.6666666666666666,
              "#ed7953"
             ],
             [
              0.7777777777777778,
              "#fb9f3a"
             ],
             [
              0.8888888888888888,
              "#fdca26"
             ],
             [
              1,
              "#f0f921"
             ]
            ],
            "type": "histogram2d"
           }
          ],
          "histogram2dcontour": [
           {
            "colorbar": {
             "outlinewidth": 0,
             "ticks": ""
            },
            "colorscale": [
             [
              0,
              "#0d0887"
             ],
             [
              0.1111111111111111,
              "#46039f"
             ],
             [
              0.2222222222222222,
              "#7201a8"
             ],
             [
              0.3333333333333333,
              "#9c179e"
             ],
             [
              0.4444444444444444,
              "#bd3786"
             ],
             [
              0.5555555555555556,
              "#d8576b"
             ],
             [
              0.6666666666666666,
              "#ed7953"
             ],
             [
              0.7777777777777778,
              "#fb9f3a"
             ],
             [
              0.8888888888888888,
              "#fdca26"
             ],
             [
              1,
              "#f0f921"
             ]
            ],
            "type": "histogram2dcontour"
           }
          ],
          "mesh3d": [
           {
            "colorbar": {
             "outlinewidth": 0,
             "ticks": ""
            },
            "type": "mesh3d"
           }
          ],
          "parcoords": [
           {
            "line": {
             "colorbar": {
              "outlinewidth": 0,
              "ticks": ""
             }
            },
            "type": "parcoords"
           }
          ],
          "pie": [
           {
            "automargin": true,
            "type": "pie"
           }
          ],
          "scatter": [
           {
            "fillpattern": {
             "fillmode": "overlay",
             "size": 10,
             "solidity": 0.2
            },
            "type": "scatter"
           }
          ],
          "scatter3d": [
           {
            "line": {
             "colorbar": {
              "outlinewidth": 0,
              "ticks": ""
             }
            },
            "marker": {
             "colorbar": {
              "outlinewidth": 0,
              "ticks": ""
             }
            },
            "type": "scatter3d"
           }
          ],
          "scattercarpet": [
           {
            "marker": {
             "colorbar": {
              "outlinewidth": 0,
              "ticks": ""
             }
            },
            "type": "scattercarpet"
           }
          ],
          "scattergeo": [
           {
            "marker": {
             "colorbar": {
              "outlinewidth": 0,
              "ticks": ""
             }
            },
            "type": "scattergeo"
           }
          ],
          "scattergl": [
           {
            "marker": {
             "colorbar": {
              "outlinewidth": 0,
              "ticks": ""
             }
            },
            "type": "scattergl"
           }
          ],
          "scattermapbox": [
           {
            "marker": {
             "colorbar": {
              "outlinewidth": 0,
              "ticks": ""
             }
            },
            "type": "scattermapbox"
           }
          ],
          "scatterpolar": [
           {
            "marker": {
             "colorbar": {
              "outlinewidth": 0,
              "ticks": ""
             }
            },
            "type": "scatterpolar"
           }
          ],
          "scatterpolargl": [
           {
            "marker": {
             "colorbar": {
              "outlinewidth": 0,
              "ticks": ""
             }
            },
            "type": "scatterpolargl"
           }
          ],
          "scatterternary": [
           {
            "marker": {
             "colorbar": {
              "outlinewidth": 0,
              "ticks": ""
             }
            },
            "type": "scatterternary"
           }
          ],
          "surface": [
           {
            "colorbar": {
             "outlinewidth": 0,
             "ticks": ""
            },
            "colorscale": [
             [
              0,
              "#0d0887"
             ],
             [
              0.1111111111111111,
              "#46039f"
             ],
             [
              0.2222222222222222,
              "#7201a8"
             ],
             [
              0.3333333333333333,
              "#9c179e"
             ],
             [
              0.4444444444444444,
              "#bd3786"
             ],
             [
              0.5555555555555556,
              "#d8576b"
             ],
             [
              0.6666666666666666,
              "#ed7953"
             ],
             [
              0.7777777777777778,
              "#fb9f3a"
             ],
             [
              0.8888888888888888,
              "#fdca26"
             ],
             [
              1,
              "#f0f921"
             ]
            ],
            "type": "surface"
           }
          ],
          "table": [
           {
            "cells": {
             "fill": {
              "color": "#EBF0F8"
             },
             "line": {
              "color": "white"
             }
            },
            "header": {
             "fill": {
              "color": "#C8D4E3"
             },
             "line": {
              "color": "white"
             }
            },
            "type": "table"
           }
          ]
         },
         "layout": {
          "annotationdefaults": {
           "arrowcolor": "#2a3f5f",
           "arrowhead": 0,
           "arrowwidth": 1
          },
          "autotypenumbers": "strict",
          "coloraxis": {
           "colorbar": {
            "outlinewidth": 0,
            "ticks": ""
           }
          },
          "colorscale": {
           "diverging": [
            [
             0,
             "#8e0152"
            ],
            [
             0.1,
             "#c51b7d"
            ],
            [
             0.2,
             "#de77ae"
            ],
            [
             0.3,
             "#f1b6da"
            ],
            [
             0.4,
             "#fde0ef"
            ],
            [
             0.5,
             "#f7f7f7"
            ],
            [
             0.6,
             "#e6f5d0"
            ],
            [
             0.7,
             "#b8e186"
            ],
            [
             0.8,
             "#7fbc41"
            ],
            [
             0.9,
             "#4d9221"
            ],
            [
             1,
             "#276419"
            ]
           ],
           "sequential": [
            [
             0,
             "#0d0887"
            ],
            [
             0.1111111111111111,
             "#46039f"
            ],
            [
             0.2222222222222222,
             "#7201a8"
            ],
            [
             0.3333333333333333,
             "#9c179e"
            ],
            [
             0.4444444444444444,
             "#bd3786"
            ],
            [
             0.5555555555555556,
             "#d8576b"
            ],
            [
             0.6666666666666666,
             "#ed7953"
            ],
            [
             0.7777777777777778,
             "#fb9f3a"
            ],
            [
             0.8888888888888888,
             "#fdca26"
            ],
            [
             1,
             "#f0f921"
            ]
           ],
           "sequentialminus": [
            [
             0,
             "#0d0887"
            ],
            [
             0.1111111111111111,
             "#46039f"
            ],
            [
             0.2222222222222222,
             "#7201a8"
            ],
            [
             0.3333333333333333,
             "#9c179e"
            ],
            [
             0.4444444444444444,
             "#bd3786"
            ],
            [
             0.5555555555555556,
             "#d8576b"
            ],
            [
             0.6666666666666666,
             "#ed7953"
            ],
            [
             0.7777777777777778,
             "#fb9f3a"
            ],
            [
             0.8888888888888888,
             "#fdca26"
            ],
            [
             1,
             "#f0f921"
            ]
           ]
          },
          "colorway": [
           "#636efa",
           "#EF553B",
           "#00cc96",
           "#ab63fa",
           "#FFA15A",
           "#19d3f3",
           "#FF6692",
           "#B6E880",
           "#FF97FF",
           "#FECB52"
          ],
          "font": {
           "color": "#2a3f5f"
          },
          "geo": {
           "bgcolor": "white",
           "lakecolor": "white",
           "landcolor": "#E5ECF6",
           "showlakes": true,
           "showland": true,
           "subunitcolor": "white"
          },
          "hoverlabel": {
           "align": "left"
          },
          "hovermode": "closest",
          "mapbox": {
           "style": "light"
          },
          "paper_bgcolor": "white",
          "plot_bgcolor": "#E5ECF6",
          "polar": {
           "angularaxis": {
            "gridcolor": "white",
            "linecolor": "white",
            "ticks": ""
           },
           "bgcolor": "#E5ECF6",
           "radialaxis": {
            "gridcolor": "white",
            "linecolor": "white",
            "ticks": ""
           }
          },
          "scene": {
           "xaxis": {
            "backgroundcolor": "#E5ECF6",
            "gridcolor": "white",
            "gridwidth": 2,
            "linecolor": "white",
            "showbackground": true,
            "ticks": "",
            "zerolinecolor": "white"
           },
           "yaxis": {
            "backgroundcolor": "#E5ECF6",
            "gridcolor": "white",
            "gridwidth": 2,
            "linecolor": "white",
            "showbackground": true,
            "ticks": "",
            "zerolinecolor": "white"
           },
           "zaxis": {
            "backgroundcolor": "#E5ECF6",
            "gridcolor": "white",
            "gridwidth": 2,
            "linecolor": "white",
            "showbackground": true,
            "ticks": "",
            "zerolinecolor": "white"
           }
          },
          "shapedefaults": {
           "line": {
            "color": "#2a3f5f"
           }
          },
          "ternary": {
           "aaxis": {
            "gridcolor": "white",
            "linecolor": "white",
            "ticks": ""
           },
           "baxis": {
            "gridcolor": "white",
            "linecolor": "white",
            "ticks": ""
           },
           "bgcolor": "#E5ECF6",
           "caxis": {
            "gridcolor": "white",
            "linecolor": "white",
            "ticks": ""
           }
          },
          "title": {
           "x": 0.05
          },
          "xaxis": {
           "automargin": true,
           "gridcolor": "white",
           "linecolor": "white",
           "ticks": "",
           "title": {
            "standoff": 15
           },
           "zerolinecolor": "white",
           "zerolinewidth": 2
          },
          "yaxis": {
           "automargin": true,
           "gridcolor": "white",
           "linecolor": "white",
           "ticks": "",
           "title": {
            "standoff": 15
           },
           "zerolinecolor": "white",
           "zerolinewidth": 2
          }
         }
        },
        "title": {
         "text": "Stacked Bar Plot of GDP by Region (IMF Forecast)"
        },
        "xaxis": {
         "anchor": "y",
         "domain": [
          0,
          1
         ],
         "title": {
          "text": "Region"
         }
        },
        "yaxis": {
         "anchor": "x",
         "domain": [
          0,
          1
         ],
         "title": {
          "text": "GDP (Millions USD)"
         }
        }
       }
      }
     },
     "metadata": {},
     "output_type": "display_data"
    }
   ],
   "source": [
    "fig = px.bar(\n",
    "    gdp_imf, \n",
    "    x= \"Region\", \n",
    "    y= \"GDP_IMF\", \n",
    "    hover_data=\"Country\", \n",
    "    title='Stacked Bar Plot of GDP by Region (IMF Forecast)',\n",
    "    labels={'GDP_IMF': 'GDP (Millions USD)'})\n",
    "fig.show()"
   ]
  },
  {
   "cell_type": "code",
   "execution_count": 18,
   "id": "86c3ac94",
   "metadata": {},
   "outputs": [],
   "source": [
    "fig.write_html(\"stacked_gdp_by_region.html\")"
   ]
  }
 ],
 "metadata": {
  "kernelspec": {
   "display_name": "Python 3",
   "language": "python",
   "name": "python3"
  },
  "language_info": {
   "codemirror_mode": {
    "name": "ipython",
    "version": 3
   },
   "file_extension": ".py",
   "mimetype": "text/x-python",
   "name": "python",
   "nbconvert_exporter": "python",
   "pygments_lexer": "ipython3",
   "version": "3.10.16"
  }
 },
 "nbformat": 4,
 "nbformat_minor": 5
}
