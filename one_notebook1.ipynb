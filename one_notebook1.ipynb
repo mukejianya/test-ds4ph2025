print(4 + 4) 

this is a text chunk
